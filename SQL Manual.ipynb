{
 "cells": [
  {
   "cell_type": "markdown",
   "id": "b2315fe8",
   "metadata": {},
   "source": [
    "## 1. Connection to the database\n",
    "## 2. Get in touch with your database!\n",
    "## 3. SELECT, FROM ,WHERE, DISTINCT, ORDER BY, TOP, AND & OR, LIKE, IN, EXIST\n",
    "## 4. Data definiton language(DDL), Data manipualtion language(DML)\n",
    "## 5. SQL Joins\n",
    "## 6. WINDOW FUNCTIONS\n",
    "## 7. Subquery, CTE, Temporary tables, Views\n"
   ]
  },
  {
   "cell_type": "markdown",
   "id": "5d4a1722",
   "metadata": {},
   "source": [
    "# <span style=\"color: red;\"> ✯✯✯✯✯✯✯✯✯✯✯✯✯✯✯✯✯✯✯✯✯✯✯✯✯✯✯✯✯✯✯✯✯✯✯✯✯✯✯✯✯✯✯✯"
   ]
  },
  {
   "cell_type": "markdown",
   "id": "45b0770a",
   "metadata": {},
   "source": [
    "# 1. Connection to the database"
   ]
  },
  {
   "cell_type": "code",
   "execution_count": 1,
   "id": "9db3b9d4",
   "metadata": {},
   "outputs": [
    {
     "name": "stdout",
     "output_type": "stream",
     "text": [
      "<pypyodbc.Connection object at 0x000001A16D8439A0>\n"
     ]
    }
   ],
   "source": [
    "import pypyodbc as odbc\n",
    "import pandas as pd\n",
    "from sqlalchemy import create_engine\n",
    "\n",
    "DRIVER_NAME = \"SQL SERVER\"\n",
    "SERVER_NAME = \"DESKTOP-BQPNNC8\\SQLEXPRESS\"\n",
    "DATABASE_NAME = \"Eshop\"\n",
    "\n",
    "#uid=<username>;\n",
    "#pwd=<passowrd>;\n",
    "connection_string = F\"\"\"\n",
    "    DRIVER={{{DRIVER_NAME}}};\n",
    "    SERVER={SERVER_NAME};\n",
    "    DATABASE={DATABASE_NAME};\n",
    "    Trust_Connection=yes;\n",
    "\n",
    "\"\"\"\n",
    "\n",
    "conn = odbc.connect(connection_string)\n",
    "print(conn)"
   ]
  },
  {
   "cell_type": "code",
   "execution_count": 2,
   "id": "d0573c06",
   "metadata": {},
   "outputs": [],
   "source": [
    "connection_string = f\"mssql+pyodbc://{SERVER_NAME}/{DATABASE_NAME}?driver={DRIVER_NAME}\"\n",
    "\n",
    "# Create a database engine\n",
    "engine = create_engine(connection_string)\n",
    "\n",
    "\n"
   ]
  },
  {
   "cell_type": "code",
   "execution_count": 3,
   "id": "2a6a9b8e",
   "metadata": {
    "scrolled": true
   },
   "outputs": [
    {
     "data": {
      "text/html": [
       "<div>\n",
       "<style scoped>\n",
       "    .dataframe tbody tr th:only-of-type {\n",
       "        vertical-align: middle;\n",
       "    }\n",
       "\n",
       "    .dataframe tbody tr th {\n",
       "        vertical-align: top;\n",
       "    }\n",
       "\n",
       "    .dataframe thead th {\n",
       "        text-align: right;\n",
       "    }\n",
       "</style>\n",
       "<table border=\"1\" class=\"dataframe\">\n",
       "  <thead>\n",
       "    <tr style=\"text-align: right;\">\n",
       "      <th></th>\n",
       "      <th>Name</th>\n",
       "      <th>Unitprice</th>\n",
       "    </tr>\n",
       "  </thead>\n",
       "  <tbody>\n",
       "    <tr>\n",
       "      <th>0</th>\n",
       "      <td>Product HHYDP</td>\n",
       "      <td>18.00</td>\n",
       "    </tr>\n",
       "    <tr>\n",
       "      <th>1</th>\n",
       "      <td>Product RECZE</td>\n",
       "      <td>19.00</td>\n",
       "    </tr>\n",
       "    <tr>\n",
       "      <th>2</th>\n",
       "      <td>Product IMEHJ</td>\n",
       "      <td>10.00</td>\n",
       "    </tr>\n",
       "    <tr>\n",
       "      <th>3</th>\n",
       "      <td>Product KSBRM</td>\n",
       "      <td>22.00</td>\n",
       "    </tr>\n",
       "    <tr>\n",
       "      <th>4</th>\n",
       "      <td>Product EPEIM</td>\n",
       "      <td>21.35</td>\n",
       "    </tr>\n",
       "    <tr>\n",
       "      <th>...</th>\n",
       "      <td>...</td>\n",
       "      <td>...</td>\n",
       "    </tr>\n",
       "    <tr>\n",
       "      <th>72</th>\n",
       "      <td>Product WEUJZ</td>\n",
       "      <td>15.00</td>\n",
       "    </tr>\n",
       "    <tr>\n",
       "      <th>73</th>\n",
       "      <td>Product BKAZJ</td>\n",
       "      <td>10.00</td>\n",
       "    </tr>\n",
       "    <tr>\n",
       "      <th>74</th>\n",
       "      <td>Product BWRLG</td>\n",
       "      <td>7.75</td>\n",
       "    </tr>\n",
       "    <tr>\n",
       "      <th>75</th>\n",
       "      <td>Product JYGFE</td>\n",
       "      <td>18.00</td>\n",
       "    </tr>\n",
       "    <tr>\n",
       "      <th>76</th>\n",
       "      <td>Product LUNZZ</td>\n",
       "      <td>13.00</td>\n",
       "    </tr>\n",
       "  </tbody>\n",
       "</table>\n",
       "<p>77 rows × 2 columns</p>\n",
       "</div>"
      ],
      "text/plain": [
       "             Name  Unitprice\n",
       "0   Product HHYDP      18.00\n",
       "1   Product RECZE      19.00\n",
       "2   Product IMEHJ      10.00\n",
       "3   Product KSBRM      22.00\n",
       "4   Product EPEIM      21.35\n",
       "..            ...        ...\n",
       "72  Product WEUJZ      15.00\n",
       "73  Product BKAZJ      10.00\n",
       "74  Product BWRLG       7.75\n",
       "75  Product JYGFE      18.00\n",
       "76  Product LUNZZ      13.00\n",
       "\n",
       "[77 rows x 2 columns]"
      ]
     },
     "execution_count": 3,
     "metadata": {},
     "output_type": "execute_result"
    }
   ],
   "source": [
    "# SQL query to execute\n",
    "sql_query = \"SELECT Name, Unitprice FROM Production.Products\"\n",
    "\n",
    "# Execute the query and fetch results into a DataFrame\n",
    "df = pd.read_sql(sql_query, engine)\n",
    "\n",
    "# Print the DataFrame\n",
    "df"
   ]
  },
  {
   "cell_type": "markdown",
   "id": "7eeecb92",
   "metadata": {},
   "source": [
    "# <span style=\"color: red;\"> ✯✯✯✯✯✯✯✯✯✯✯✯✯✯✯✯✯✯✯✯✯✯✯✯✯✯✯✯✯✯✯✯✯✯✯✯✯✯✯✯✯✯✯✯"
   ]
  },
  {
   "cell_type": "markdown",
   "id": "ec42f6ee",
   "metadata": {},
   "source": [
    "# 2. Get in touch with your database!"
   ]
  },
  {
   "cell_type": "markdown",
   "id": "77db4811",
   "metadata": {},
   "source": [
    "## <span style=\"color: blue;\">SQL Query for Generating Table and Key Information Report\n",
    "\n",
    "This SQL query is designed to retrieve detailed information about tables and their associated keys (primary keys, foreign keys, and unique constraints) from a database. The query utilizes Microsoft SQL Server's system views to gather metadata about the database schema and relationships between tables."
   ]
  },
  {
   "cell_type": "code",
   "execution_count": 5,
   "id": "1166ce6a",
   "metadata": {},
   "outputs": [
    {
     "data": {
      "text/html": [
       "<div>\n",
       "<style scoped>\n",
       "    .dataframe tbody tr th:only-of-type {\n",
       "        vertical-align: middle;\n",
       "    }\n",
       "\n",
       "    .dataframe tbody tr th {\n",
       "        vertical-align: top;\n",
       "    }\n",
       "\n",
       "    .dataframe thead th {\n",
       "        text-align: right;\n",
       "    }\n",
       "</style>\n",
       "<table border=\"1\" class=\"dataframe\">\n",
       "  <thead>\n",
       "    <tr style=\"text-align: right;\">\n",
       "      <th></th>\n",
       "      <th>table_name</th>\n",
       "      <th>column_name</th>\n",
       "      <th>data_type</th>\n",
       "      <th>key_type</th>\n",
       "      <th>key_type</th>\n",
       "      <th>key_type</th>\n",
       "    </tr>\n",
       "  </thead>\n",
       "  <tbody>\n",
       "    <tr>\n",
       "      <th>0</th>\n",
       "      <td>Categories</td>\n",
       "      <td>CategoryID</td>\n",
       "      <td>int</td>\n",
       "      <td>Primary Key</td>\n",
       "      <td></td>\n",
       "      <td>Unique Constraint</td>\n",
       "    </tr>\n",
       "    <tr>\n",
       "      <th>1</th>\n",
       "      <td>Categories</td>\n",
       "      <td>Name</td>\n",
       "      <td>nvarchar</td>\n",
       "      <td></td>\n",
       "      <td></td>\n",
       "      <td></td>\n",
       "    </tr>\n",
       "    <tr>\n",
       "      <th>2</th>\n",
       "      <td>Categories</td>\n",
       "      <td>Description</td>\n",
       "      <td>nvarchar</td>\n",
       "      <td></td>\n",
       "      <td></td>\n",
       "      <td></td>\n",
       "    </tr>\n",
       "    <tr>\n",
       "      <th>3</th>\n",
       "      <td>Customers</td>\n",
       "      <td>CustomerID</td>\n",
       "      <td>int</td>\n",
       "      <td>Primary Key</td>\n",
       "      <td></td>\n",
       "      <td>Unique Constraint</td>\n",
       "    </tr>\n",
       "    <tr>\n",
       "      <th>4</th>\n",
       "      <td>Customers</td>\n",
       "      <td>CompanyName</td>\n",
       "      <td>nvarchar</td>\n",
       "      <td></td>\n",
       "      <td></td>\n",
       "      <td></td>\n",
       "    </tr>\n",
       "    <tr>\n",
       "      <th>...</th>\n",
       "      <td>...</td>\n",
       "      <td>...</td>\n",
       "      <td>...</td>\n",
       "      <td>...</td>\n",
       "      <td>...</td>\n",
       "      <td>...</td>\n",
       "    </tr>\n",
       "    <tr>\n",
       "      <th>69</th>\n",
       "      <td>sysdiagrams</td>\n",
       "      <td>name</td>\n",
       "      <td>sysname</td>\n",
       "      <td>Primary Key</td>\n",
       "      <td></td>\n",
       "      <td>Unique Constraint</td>\n",
       "    </tr>\n",
       "    <tr>\n",
       "      <th>70</th>\n",
       "      <td>sysdiagrams</td>\n",
       "      <td>principal_id</td>\n",
       "      <td>int</td>\n",
       "      <td>Primary Key</td>\n",
       "      <td></td>\n",
       "      <td>Unique Constraint</td>\n",
       "    </tr>\n",
       "    <tr>\n",
       "      <th>71</th>\n",
       "      <td>sysdiagrams</td>\n",
       "      <td>diagram_id</td>\n",
       "      <td>int</td>\n",
       "      <td>Primary Key</td>\n",
       "      <td></td>\n",
       "      <td>Unique Constraint</td>\n",
       "    </tr>\n",
       "    <tr>\n",
       "      <th>72</th>\n",
       "      <td>sysdiagrams</td>\n",
       "      <td>version</td>\n",
       "      <td>int</td>\n",
       "      <td></td>\n",
       "      <td></td>\n",
       "      <td></td>\n",
       "    </tr>\n",
       "    <tr>\n",
       "      <th>73</th>\n",
       "      <td>sysdiagrams</td>\n",
       "      <td>definition</td>\n",
       "      <td>varbinary</td>\n",
       "      <td></td>\n",
       "      <td></td>\n",
       "      <td></td>\n",
       "    </tr>\n",
       "  </tbody>\n",
       "</table>\n",
       "<p>74 rows × 6 columns</p>\n",
       "</div>"
      ],
      "text/plain": [
       "     table_name   column_name  data_type     key_type key_type  \\\n",
       "0    Categories    CategoryID        int  Primary Key            \n",
       "1    Categories          Name   nvarchar                         \n",
       "2    Categories   Description   nvarchar                         \n",
       "3     Customers    CustomerID        int  Primary Key            \n",
       "4     Customers   CompanyName   nvarchar                         \n",
       "..          ...           ...        ...          ...      ...   \n",
       "69  sysdiagrams          name    sysname  Primary Key            \n",
       "70  sysdiagrams  principal_id        int  Primary Key            \n",
       "71  sysdiagrams    diagram_id        int  Primary Key            \n",
       "72  sysdiagrams       version        int                         \n",
       "73  sysdiagrams    definition  varbinary                         \n",
       "\n",
       "             key_type  \n",
       "0   Unique Constraint  \n",
       "1                      \n",
       "2                      \n",
       "3   Unique Constraint  \n",
       "4                      \n",
       "..                ...  \n",
       "69  Unique Constraint  \n",
       "70  Unique Constraint  \n",
       "71  Unique Constraint  \n",
       "72                     \n",
       "73                     \n",
       "\n",
       "[74 rows x 6 columns]"
      ]
     },
     "execution_count": 5,
     "metadata": {},
     "output_type": "execute_result"
    }
   ],
   "source": [
    "# SQL query to execute\n",
    "sql_query = '''SELECT \n",
    "    t.name AS table_name,\n",
    "    c.name AS column_name,\n",
    "    type_name(c.user_type_id) AS data_type,\n",
    "    CASE WHEN pk.name IS NOT NULL THEN 'Primary Key' ELSE '' END AS key_type,\n",
    "    CASE WHEN fk.name IS NOT NULL THEN 'Foreign Key' ELSE '' END AS key_type,\n",
    "    CASE WHEN uk.name IS NOT NULL THEN 'Unique Constraint' ELSE '' END AS key_type\n",
    "FROM sys.tables AS t\n",
    "JOIN sys.columns AS c ON t.object_id = c.object_id\n",
    "LEFT JOIN sys.index_columns ic ON ic.object_id = t.object_id AND ic.column_id = c.column_id\n",
    "LEFT JOIN sys.indexes i ON ic.object_id = i.object_id AND ic.index_id = i.index_id\n",
    "LEFT JOIN sys.key_constraints pk ON i.object_id = pk.parent_object_id AND i.index_id = pk.unique_index_id\n",
    "LEFT JOIN sys.foreign_key_columns fkc ON fkc.parent_object_id = t.object_id AND fkc.parent_column_id = c.column_id\n",
    "LEFT JOIN sys.foreign_keys fk ON fkc.constraint_object_id = fk.object_id\n",
    "LEFT JOIN sys.key_constraints uk ON i.object_id = uk.parent_object_id AND i.index_id = uk.unique_index_id\n",
    "WHERE t.type = 'U'  -- 'U' indicates user-defined tables\n",
    "ORDER BY t.name, c.column_id;'''\n",
    "\n",
    "# Execute the query and fetch results into a DataFrame\n",
    "df = pd.read_sql(sql_query, engine)\n",
    "\n",
    "# Print the DataFrame\n",
    "df"
   ]
  },
  {
   "cell_type": "markdown",
   "id": "0fae9ead",
   "metadata": {},
   "source": [
    "\n",
    "\n",
    "### SQL Query Explanation\n",
    "\n",
    "The SQL query performs the following tasks:\n",
    "\n",
    "1. **Selection of Columns**: The query selects various columns from the system views to provide comprehensive information about each column in the tables.\n",
    "\n",
    "2. **Table and Column Information**: It retrieves the name of the table and the corresponding column, along with the data type of the column.\n",
    "\n",
    "3. **Key Detection**:\n",
    "   - The `CASE` statements are used to determine if a column is part of a primary key, foreign key, or unique constraint.\n",
    "   - The `LEFT JOIN` clauses connect the columns to their associated keys using relevant system views.\n",
    "   \n",
    "4. **Joining System Views**: The query joins the following system views to gather key-related information:\n",
    "   - `sys.tables` and `sys.columns` for table and column information.\n",
    "   - `sys.index_columns`, `sys.indexes`, and `sys.key_constraints` for primary keys and unique constraints.\n",
    "   - `sys.foreign_key_columns` and `sys.foreign_keys` for foreign key relationships.\n",
    "\n",
    "5. **Filtering User-Defined Tables**: The `WHERE` clause filters out system tables and focuses only on user-defined tables (identified by `t.type = 'U'`).\n",
    "\n",
    "6. **Ordering Results**: The results are ordered by table name and column ID for a structured presentation.\n",
    "\n",
    "### Use of the Report\n",
    "\n",
    "The generated report provides valuable insights into the database schema and its relationships. It can be used for the following purposes:\n",
    "\n",
    "1. **Schema Documentation**: The report serves as documentation for the database schema, making it easier for developers, administrators, and analysts to understand the structure of tables and their relationships.\n",
    "\n",
    "2. **Data Modeling**: The report aids in data modeling and database design by highlighting primary keys, foreign keys, and unique constraints, helping ensure data integrity and accuracy.\n",
    "\n",
    "3. **Database Maintenance**: When maintaining or troubleshooting a database, this report can assist in identifying keys and constraints that play a crucial role in data management.\n",
    "\n",
    "4. **Data Analysis**: Analysts can use the report to gain insights into the relationships between tables, which is essential for performing complex queries and aggregations.\n",
    "\n",
    "5. **Education and Training**: This report can be included in tutorials, manuals, or training materials to teach SQL concepts, including table relationships and key types.\n",
    "\n",
    "By utilizing this SQL query and generating the associated report, users can better understand the structure of their database and make informed decisions regarding data management, analysis, and optimization."
   ]
  },
  {
   "cell_type": "markdown",
   "id": "56973c34",
   "metadata": {},
   "source": [
    "## <span style=\"color: blue;\">SQL Query for Retrieving Table and Column Information</span>\n",
    "\n",
    "This SQL query is designed to retrieve basic information about tables and their columns from a database. The query utilizes Microsoft SQL Server's system views to gather metadata about the database schema.\n"
   ]
  },
  {
   "cell_type": "code",
   "execution_count": 6,
   "id": "781cac5c",
   "metadata": {
    "scrolled": false
   },
   "outputs": [
    {
     "data": {
      "text/html": [
       "<div>\n",
       "<style scoped>\n",
       "    .dataframe tbody tr th:only-of-type {\n",
       "        vertical-align: middle;\n",
       "    }\n",
       "\n",
       "    .dataframe tbody tr th {\n",
       "        vertical-align: top;\n",
       "    }\n",
       "\n",
       "    .dataframe thead th {\n",
       "        text-align: right;\n",
       "    }\n",
       "</style>\n",
       "<table border=\"1\" class=\"dataframe\">\n",
       "  <thead>\n",
       "    <tr style=\"text-align: right;\">\n",
       "      <th></th>\n",
       "      <th>table_name</th>\n",
       "      <th>column_name</th>\n",
       "      <th>data_type</th>\n",
       "    </tr>\n",
       "  </thead>\n",
       "  <tbody>\n",
       "    <tr>\n",
       "      <th>0</th>\n",
       "      <td>Categories</td>\n",
       "      <td>CategoryID</td>\n",
       "      <td>int</td>\n",
       "    </tr>\n",
       "    <tr>\n",
       "      <th>1</th>\n",
       "      <td>Categories</td>\n",
       "      <td>Name</td>\n",
       "      <td>nvarchar</td>\n",
       "    </tr>\n",
       "    <tr>\n",
       "      <th>2</th>\n",
       "      <td>Categories</td>\n",
       "      <td>Description</td>\n",
       "      <td>nvarchar</td>\n",
       "    </tr>\n",
       "    <tr>\n",
       "      <th>3</th>\n",
       "      <td>Customers</td>\n",
       "      <td>CustomerID</td>\n",
       "      <td>int</td>\n",
       "    </tr>\n",
       "    <tr>\n",
       "      <th>4</th>\n",
       "      <td>Customers</td>\n",
       "      <td>CompanyName</td>\n",
       "      <td>nvarchar</td>\n",
       "    </tr>\n",
       "    <tr>\n",
       "      <th>...</th>\n",
       "      <td>...</td>\n",
       "      <td>...</td>\n",
       "      <td>...</td>\n",
       "    </tr>\n",
       "    <tr>\n",
       "      <th>67</th>\n",
       "      <td>sysdiagrams</td>\n",
       "      <td>name</td>\n",
       "      <td>sysname</td>\n",
       "    </tr>\n",
       "    <tr>\n",
       "      <th>68</th>\n",
       "      <td>sysdiagrams</td>\n",
       "      <td>principal_id</td>\n",
       "      <td>int</td>\n",
       "    </tr>\n",
       "    <tr>\n",
       "      <th>69</th>\n",
       "      <td>sysdiagrams</td>\n",
       "      <td>diagram_id</td>\n",
       "      <td>int</td>\n",
       "    </tr>\n",
       "    <tr>\n",
       "      <th>70</th>\n",
       "      <td>sysdiagrams</td>\n",
       "      <td>version</td>\n",
       "      <td>int</td>\n",
       "    </tr>\n",
       "    <tr>\n",
       "      <th>71</th>\n",
       "      <td>sysdiagrams</td>\n",
       "      <td>definition</td>\n",
       "      <td>varbinary</td>\n",
       "    </tr>\n",
       "  </tbody>\n",
       "</table>\n",
       "<p>72 rows × 3 columns</p>\n",
       "</div>"
      ],
      "text/plain": [
       "     table_name   column_name  data_type\n",
       "0    Categories    CategoryID        int\n",
       "1    Categories          Name   nvarchar\n",
       "2    Categories   Description   nvarchar\n",
       "3     Customers    CustomerID        int\n",
       "4     Customers   CompanyName   nvarchar\n",
       "..          ...           ...        ...\n",
       "67  sysdiagrams          name    sysname\n",
       "68  sysdiagrams  principal_id        int\n",
       "69  sysdiagrams    diagram_id        int\n",
       "70  sysdiagrams       version        int\n",
       "71  sysdiagrams    definition  varbinary\n",
       "\n",
       "[72 rows x 3 columns]"
      ]
     },
     "execution_count": 6,
     "metadata": {},
     "output_type": "execute_result"
    }
   ],
   "source": [
    "# SQL query to execute\n",
    "sql_query = '''SELECT \n",
    "    t.name AS table_name,\n",
    "    c.name AS column_name,\n",
    "    type_name(c.user_type_id) AS data_type\n",
    "FROM sys.tables AS t\n",
    "JOIN sys.columns AS c ON t.object_id = c.object_id\n",
    "ORDER BY t.name, c.column_id;'''\n",
    "\n",
    "# Execute the query and fetch results into a DataFrame\n",
    "df = pd.read_sql(sql_query, engine)\n",
    "\n",
    "# Print the DataFrame\n",
    "df"
   ]
  },
  {
   "cell_type": "markdown",
   "id": "f04a4d2c",
   "metadata": {},
   "source": [
    "### SQL Query Explanation\n",
    "\n",
    "The SQL query performs the following tasks:\n",
    "\n",
    "1. **Selection of Columns**: The query selects columns that provide essential information about each table's name and each column's name and data type.\n",
    "\n",
    "2. **Table and Column Information**: It retrieves the name of the table and the corresponding column, along with the data type of the column.\n",
    "\n",
    "3. **Joining System Views**: The query uses the `sys.tables` and `sys.columns` system views to join tables with their respective columns based on the `object_id`.\n",
    "\n",
    "4. **Ordering Results**: The results are ordered by table name and column ID for a structured presentation.\n",
    "\n",
    "### Use of the Query\n",
    "\n",
    "This query is particularly useful when you need to quickly access fundamental information about the tables and columns within a database:\n",
    "\n",
    "1. **Schema Exploration**: The query allows you to explore the structure of the database by providing a list of all tables and their associated columns.\n",
    "\n",
    "2. **Data Type Assessment**: By including the data type information, you can assess the types of data stored in each column.\n",
    "\n",
    "3. **Database Documentation**: This query can be used to create documentation or a snapshot of the database schema for reference purposes.\n",
    "\n",
    "4. **Development and Debugging**: When developing applications or debugging, you can use this query to verify column names and data types in the database.\n",
    "\n",
    "5. **Initial Data Profiling**: Data analysts and data scientists can use this query to perform initial profiling of the dataset, understanding its structure before diving into more complex analysis.\n",
    "\n",
    "6. **Learning SQL**: This query is also helpful for individuals learning SQL, as it demonstrates basic querying and joining concepts.\n",
    "\n",
    "By executing this SQL query, you can quickly obtain an overview of the tables and columns within your database, aiding in database exploration, development, documentation, and learning."
   ]
  },
  {
   "cell_type": "markdown",
   "id": "51219e2b",
   "metadata": {},
   "source": [
    "## <span style=\"color: blue;\">SQL Query for Retrieving Primary Key Columns\n",
    "This SQL query is designed to retrieve information about primary key columns within tables of a database. The query leverages Microsoft SQL Server's system views to extract metadata about primary key constraints and their associated columns."
   ]
  },
  {
   "cell_type": "code",
   "execution_count": 8,
   "id": "6eb5373d",
   "metadata": {},
   "outputs": [
    {
     "data": {
      "text/html": [
       "<div>\n",
       "<style scoped>\n",
       "    .dataframe tbody tr th:only-of-type {\n",
       "        vertical-align: middle;\n",
       "    }\n",
       "\n",
       "    .dataframe tbody tr th {\n",
       "        vertical-align: top;\n",
       "    }\n",
       "\n",
       "    .dataframe thead th {\n",
       "        text-align: right;\n",
       "    }\n",
       "</style>\n",
       "<table border=\"1\" class=\"dataframe\">\n",
       "  <thead>\n",
       "    <tr style=\"text-align: right;\">\n",
       "      <th></th>\n",
       "      <th>table_name</th>\n",
       "      <th>primary_key_column</th>\n",
       "    </tr>\n",
       "  </thead>\n",
       "  <tbody>\n",
       "    <tr>\n",
       "      <th>0</th>\n",
       "      <td>Categories</td>\n",
       "      <td>CategoryID</td>\n",
       "    </tr>\n",
       "    <tr>\n",
       "      <th>1</th>\n",
       "      <td>Customers</td>\n",
       "      <td>CustomerID</td>\n",
       "    </tr>\n",
       "    <tr>\n",
       "      <th>2</th>\n",
       "      <td>Employees</td>\n",
       "      <td>EmployeeID</td>\n",
       "    </tr>\n",
       "    <tr>\n",
       "      <th>3</th>\n",
       "      <td>OrderDetails</td>\n",
       "      <td>OrderID</td>\n",
       "    </tr>\n",
       "    <tr>\n",
       "      <th>4</th>\n",
       "      <td>OrderDetails</td>\n",
       "      <td>ProductID</td>\n",
       "    </tr>\n",
       "    <tr>\n",
       "      <th>5</th>\n",
       "      <td>Orders</td>\n",
       "      <td>OrderID</td>\n",
       "    </tr>\n",
       "    <tr>\n",
       "      <th>6</th>\n",
       "      <td>Products</td>\n",
       "      <td>ProductID</td>\n",
       "    </tr>\n",
       "    <tr>\n",
       "      <th>7</th>\n",
       "      <td>Shippers</td>\n",
       "      <td>ShipperID</td>\n",
       "    </tr>\n",
       "    <tr>\n",
       "      <th>8</th>\n",
       "      <td>Suppliers</td>\n",
       "      <td>SupplierID</td>\n",
       "    </tr>\n",
       "    <tr>\n",
       "      <th>9</th>\n",
       "      <td>sysdiagrams</td>\n",
       "      <td>diagram_id</td>\n",
       "    </tr>\n",
       "  </tbody>\n",
       "</table>\n",
       "</div>"
      ],
      "text/plain": [
       "     table_name primary_key_column\n",
       "0    Categories         CategoryID\n",
       "1     Customers         CustomerID\n",
       "2     Employees         EmployeeID\n",
       "3  OrderDetails            OrderID\n",
       "4  OrderDetails          ProductID\n",
       "5        Orders            OrderID\n",
       "6      Products          ProductID\n",
       "7      Shippers          ShipperID\n",
       "8     Suppliers         SupplierID\n",
       "9   sysdiagrams         diagram_id"
      ]
     },
     "execution_count": 8,
     "metadata": {},
     "output_type": "execute_result"
    }
   ],
   "source": [
    "# SQL query to execute\n",
    "sql_query = '''SELECT t.name AS table_name, c.name AS primary_key_column\n",
    "FROM sys.tables AS t\n",
    "JOIN sys.index_columns AS ic ON t.object_id = ic.object_id\n",
    "JOIN sys.columns AS c ON ic.object_id = c.object_id AND ic.column_id = c.column_id\n",
    "JOIN sys.indexes AS i ON ic.object_id = i.object_id AND ic.index_id = i.index_id\n",
    "WHERE i.is_primary_key = 1\n",
    "ORDER BY t.name, ic.key_ordinal'''\n",
    "\n",
    "# Execute the query and fetch results into a DataFrame\n",
    "df = pd.read_sql(sql_query, engine)\n",
    "\n",
    "# Print the DataFrame\n",
    "df"
   ]
  },
  {
   "cell_type": "markdown",
   "id": "99115d44",
   "metadata": {},
   "source": [
    "### SQL Query Explanation\n",
    "\n",
    "The SQL query performs the following tasks:\n",
    "\n",
    "1. **Selection of Columns**: The query selects columns that provide insights into primary key information:\n",
    "   - `table_name`: The name of the table with a primary key constraint.\n",
    "   - `primary_key_column`: The name of the column that constitutes the primary key.\n",
    "\n",
    "2. **Joining System Views**:\n",
    "   - The query begins by selecting from the `sys.tables` system view to access information about tables.\n",
    "   - It joins the `sys.index_columns` system view to link tables with their associated index columns (including primary keys).\n",
    "   - Subsequent joins with the `sys.columns` and `sys.indexes` system views retrieve column and index information.\n",
    "\n",
    "3. **Filtering Primary Keys**:\n",
    "   - The `WHERE` clause filters results to only include rows where the index is a primary key (indicated by `i.is_primary_key = 1`).\n",
    "\n",
    "4. **Inner Joins**:\n",
    "   - Inner joins are utilized to link tables, index columns, and columns, ensuring accurate associations.\n",
    "\n",
    "5. **Ordering Results**:\n",
    "   - The query orders the results by table name and key ordinal for clear presentation.\n",
    "\n",
    "### Use of the Query\n",
    "\n",
    "This query serves several valuable purposes:\n",
    "\n",
    "1. **Key Identification**: It provides a quick overview of tables and their primary key columns, helping identify unique identifiers in the data.\n",
    "\n",
    "2. **Data Integrity Check**: By identifying primary key columns, the query helps ensure data integrity and consistency within tables.\n",
    "\n",
    "3. **Schema Documentation**: When documenting the database schema, this query can be used to detail primary key information for reference.\n",
    "\n",
    "4. **Data Modeling and Analysis**: For data modelers and analysts, understanding primary keys is crucial for data modeling and efficient analysis.\n",
    "\n",
    "5. **Optimization**: In database optimization efforts, identifying primary keys aids in creating efficient indexes for faster data retrieval.\n",
    "\n",
    "By executing this SQL query, you can obtain insights into primary key columns within tables, contributing to better understanding of data structure, relationships, and database optimization."
   ]
  },
  {
   "cell_type": "markdown",
   "id": "3f4ec241",
   "metadata": {},
   "source": [
    "## <span style=\"color: blue;\">SQL Query for Retrieving Foreign Key Relationships\n",
    "This SQL query is designed to retrieve information about foreign key relationships between tables in a database. The query utilizes Microsoft SQL Server's system views to extract metadata about foreign key constraints and their associated columns."
   ]
  },
  {
   "cell_type": "code",
   "execution_count": 7,
   "id": "efcbe657",
   "metadata": {},
   "outputs": [
    {
     "data": {
      "text/html": [
       "<div>\n",
       "<style scoped>\n",
       "    .dataframe tbody tr th:only-of-type {\n",
       "        vertical-align: middle;\n",
       "    }\n",
       "\n",
       "    .dataframe tbody tr th {\n",
       "        vertical-align: top;\n",
       "    }\n",
       "\n",
       "    .dataframe thead th {\n",
       "        text-align: right;\n",
       "    }\n",
       "</style>\n",
       "<table border=\"1\" class=\"dataframe\">\n",
       "  <thead>\n",
       "    <tr style=\"text-align: right;\">\n",
       "      <th></th>\n",
       "      <th>parent_table</th>\n",
       "      <th>parent_column</th>\n",
       "      <th>referenced_table</th>\n",
       "      <th>referenced_column</th>\n",
       "    </tr>\n",
       "  </thead>\n",
       "  <tbody>\n",
       "    <tr>\n",
       "      <th>0</th>\n",
       "      <td>Employees</td>\n",
       "      <td>ManagerID</td>\n",
       "      <td>Employees</td>\n",
       "      <td>EmployeeID</td>\n",
       "    </tr>\n",
       "    <tr>\n",
       "      <th>1</th>\n",
       "      <td>Products</td>\n",
       "      <td>CategoryID</td>\n",
       "      <td>Categories</td>\n",
       "      <td>CategoryID</td>\n",
       "    </tr>\n",
       "    <tr>\n",
       "      <th>2</th>\n",
       "      <td>Products</td>\n",
       "      <td>SupplierID</td>\n",
       "      <td>Suppliers</td>\n",
       "      <td>SupplierID</td>\n",
       "    </tr>\n",
       "    <tr>\n",
       "      <th>3</th>\n",
       "      <td>OrderDetails</td>\n",
       "      <td>OrderID</td>\n",
       "      <td>Orders</td>\n",
       "      <td>OrderID</td>\n",
       "    </tr>\n",
       "    <tr>\n",
       "      <th>4</th>\n",
       "      <td>OrderDetails</td>\n",
       "      <td>ProductID</td>\n",
       "      <td>Products</td>\n",
       "      <td>ProductID</td>\n",
       "    </tr>\n",
       "    <tr>\n",
       "      <th>5</th>\n",
       "      <td>Orders</td>\n",
       "      <td>CustomerID</td>\n",
       "      <td>Customers</td>\n",
       "      <td>CustomerID</td>\n",
       "    </tr>\n",
       "    <tr>\n",
       "      <th>6</th>\n",
       "      <td>Orders</td>\n",
       "      <td>EmployeeID</td>\n",
       "      <td>Employees</td>\n",
       "      <td>EmployeeID</td>\n",
       "    </tr>\n",
       "    <tr>\n",
       "      <th>7</th>\n",
       "      <td>Orders</td>\n",
       "      <td>ShipperID</td>\n",
       "      <td>Shippers</td>\n",
       "      <td>ShipperID</td>\n",
       "    </tr>\n",
       "  </tbody>\n",
       "</table>\n",
       "</div>"
      ],
      "text/plain": [
       "   parent_table parent_column referenced_table referenced_column\n",
       "0     Employees     ManagerID        Employees        EmployeeID\n",
       "1      Products    CategoryID       Categories        CategoryID\n",
       "2      Products    SupplierID        Suppliers        SupplierID\n",
       "3  OrderDetails       OrderID           Orders           OrderID\n",
       "4  OrderDetails     ProductID         Products         ProductID\n",
       "5        Orders    CustomerID        Customers        CustomerID\n",
       "6        Orders    EmployeeID        Employees        EmployeeID\n",
       "7        Orders     ShipperID         Shippers         ShipperID"
      ]
     },
     "execution_count": 7,
     "metadata": {},
     "output_type": "execute_result"
    }
   ],
   "source": [
    "# SQL query to execute\n",
    "sql_query = '''SELECT\n",
    "    OBJECT_NAME(fk.parent_object_id) AS parent_table,\n",
    "    c1.name AS parent_column,\n",
    "    OBJECT_NAME(fk.referenced_object_id) AS referenced_table,\n",
    "    c2.name AS referenced_column\n",
    "FROM sys.foreign_keys AS fk\n",
    "INNER JOIN sys.foreign_key_columns AS fkc ON fk.object_id = fkc.constraint_object_id\n",
    "INNER JOIN sys.columns AS c1 ON fkc.parent_object_id = c1.object_id AND fkc.parent_column_id = c1.column_id\n",
    "INNER JOIN sys.columns AS c2 ON fkc.referenced_object_id = c2.object_id AND fkc.referenced_column_id = c2.column_id;'''\n",
    "\n",
    "# Execute the query and fetch results into a DataFrame\n",
    "df = pd.read_sql(sql_query, engine)\n",
    "\n",
    "# Print the DataFrame\n",
    "df"
   ]
  },
  {
   "cell_type": "markdown",
   "id": "6b547d83",
   "metadata": {},
   "source": [
    "### SQL Query Explanation\n",
    "\n",
    "The SQL query performs the following tasks:\n",
    "\n",
    "1. **Selection of Columns**: The query selects columns that provide insights into foreign key relationships:\n",
    "   - `parent_table`: The name of the parent (referencing) table.\n",
    "   - `parent_column`: The name of the column in the parent table that is part of the foreign key relationship.\n",
    "   - `referenced_table`: The name of the referenced (child) table in the foreign key relationship.\n",
    "   - `referenced_column`: The name of the column in the referenced table corresponding to the parent column.\n",
    "\n",
    "2. **Joining System Views**:\n",
    "   - The query starts by selecting from the `sys.foreign_keys` system view to access information about foreign key constraints.\n",
    "   - It joins the `sys.foreign_key_columns` system view to associate foreign keys with their respective columns.\n",
    "   - Subsequent joins with the `sys.columns` system view retrieve the names of the parent and referenced columns.\n",
    "\n",
    "3. **Use of Functions**:\n",
    "   - The `OBJECT_NAME` function is utilized to convert object IDs into actual table names, enhancing readability.\n",
    "\n",
    "4. **Inner Joins**:\n",
    "   - The query employs inner joins to connect foreign keys with their columns and to associate columns with their respective tables.\n",
    "\n",
    "### Use of the Query\n",
    "\n",
    "This query serves the following purposes:\n",
    "\n",
    "1. **Relationship Visualization**: It provides a clear view of foreign key relationships, helping to understand how tables are connected through references.\n",
    "\n",
    "2. **Data Model Analysis**: For database administrators and data modelers, this query aids in analyzing the structure and integrity of the data model.\n",
    "\n",
    "3. **Foreign Key Validation**: The query helps validate foreign key relationships, ensuring data consistency and referential integrity.\n",
    "\n",
    "4. **Database Documentation**: When documenting the database schema, this query can provide valuable insights into relationships for reference.\n",
    "\n",
    "5. **Debugging and Troubleshooting**: During debugging or troubleshooting, understanding foreign key relationships can be critical for identifying data-related issues.\n",
    "\n",
    "By executing this SQL query, you can gain a deeper understanding of how tables in your database are connected through foreign keys, ensuring data accuracy and facilitating efficient analysis."
   ]
  },
  {
   "cell_type": "markdown",
   "id": "8cfa25a8",
   "metadata": {},
   "source": [
    "## <span style=\"color: blue;\">SQL Query for Counting Rows in Tables\n",
    "\n",
    "This SQL query is designed to count the number of rows in user-defined tables within a database. The query utilizes Microsoft SQL Server's system views to access metadata about tables and partitions.\n"
   ]
  },
  {
   "cell_type": "code",
   "execution_count": 9,
   "id": "1dc56472",
   "metadata": {},
   "outputs": [
    {
     "data": {
      "text/html": [
       "<div>\n",
       "<style scoped>\n",
       "    .dataframe tbody tr th:only-of-type {\n",
       "        vertical-align: middle;\n",
       "    }\n",
       "\n",
       "    .dataframe tbody tr th {\n",
       "        vertical-align: top;\n",
       "    }\n",
       "\n",
       "    .dataframe thead th {\n",
       "        text-align: right;\n",
       "    }\n",
       "</style>\n",
       "<table border=\"1\" class=\"dataframe\">\n",
       "  <thead>\n",
       "    <tr style=\"text-align: right;\">\n",
       "      <th></th>\n",
       "      <th>table_name</th>\n",
       "      <th>row_count</th>\n",
       "    </tr>\n",
       "  </thead>\n",
       "  <tbody>\n",
       "    <tr>\n",
       "      <th>0</th>\n",
       "      <td>OrderDetails</td>\n",
       "      <td>2155</td>\n",
       "    </tr>\n",
       "    <tr>\n",
       "      <th>1</th>\n",
       "      <td>Orders</td>\n",
       "      <td>830</td>\n",
       "    </tr>\n",
       "    <tr>\n",
       "      <th>2</th>\n",
       "      <td>Customers</td>\n",
       "      <td>91</td>\n",
       "    </tr>\n",
       "    <tr>\n",
       "      <th>3</th>\n",
       "      <td>Products</td>\n",
       "      <td>77</td>\n",
       "    </tr>\n",
       "    <tr>\n",
       "      <th>4</th>\n",
       "      <td>Suppliers</td>\n",
       "      <td>29</td>\n",
       "    </tr>\n",
       "    <tr>\n",
       "      <th>5</th>\n",
       "      <td>Employees</td>\n",
       "      <td>9</td>\n",
       "    </tr>\n",
       "    <tr>\n",
       "      <th>6</th>\n",
       "      <td>Categories</td>\n",
       "      <td>8</td>\n",
       "    </tr>\n",
       "    <tr>\n",
       "      <th>7</th>\n",
       "      <td>Shippers</td>\n",
       "      <td>3</td>\n",
       "    </tr>\n",
       "    <tr>\n",
       "      <th>8</th>\n",
       "      <td>sysdiagrams</td>\n",
       "      <td>0</td>\n",
       "    </tr>\n",
       "  </tbody>\n",
       "</table>\n",
       "</div>"
      ],
      "text/plain": [
       "     table_name  row_count\n",
       "0  OrderDetails       2155\n",
       "1        Orders        830\n",
       "2     Customers         91\n",
       "3      Products         77\n",
       "4     Suppliers         29\n",
       "5     Employees          9\n",
       "6    Categories          8\n",
       "7      Shippers          3\n",
       "8   sysdiagrams          0"
      ]
     },
     "execution_count": 9,
     "metadata": {},
     "output_type": "execute_result"
    }
   ],
   "source": [
    "# SQL query to execute\n",
    "sql_query = '''SELECT t.name AS table_name, p.rows AS row_count\n",
    "FROM sys.tables AS t\n",
    "INNER JOIN sys.partitions AS p ON t.object_id = p.object_id\n",
    "WHERE t.type_desc = 'USER_TABLE' AND p.index_id <= 1\n",
    "ORDER BY p.rows DESC;'''\n",
    "\n",
    "# Execute the query and fetch results into a DataFrame\n",
    "df = pd.read_sql(sql_query, engine)\n",
    "\n",
    "# Print the DataFrame\n",
    "df"
   ]
  },
  {
   "cell_type": "markdown",
   "id": "32da6270",
   "metadata": {},
   "source": [
    "### SQL Query Explanation\n",
    "\n",
    "The SQL query performs the following tasks:\n",
    "\n",
    "1. **Selection of Columns**: The query selects columns that provide insights into table row counts:\n",
    "   - `table_name`: The name of the user-defined table.\n",
    "   - `row_count`: The count of rows present in the table.\n",
    "\n",
    "2. **Joining System Views**:\n",
    "   - The query starts by selecting from the `sys.tables` system view to access information about tables.\n",
    "   - It performs an inner join with the `sys.partitions` system view to link tables with their associated partitions.\n",
    "\n",
    "3. **Filtering User-Defined Tables**:\n",
    "   - The `WHERE` clause filters results to include only user-defined tables (indicated by `t.type_desc = 'USER_TABLE'`).\n",
    "\n",
    "4. **Counting Rows**:\n",
    "   - The `p.rows` column from the `sys.partitions` view provides the row count for each table.\n",
    "\n",
    "5. **Ordering Results**:\n",
    "   - The query orders the results by row count in descending order for clear presentation.\n",
    "\n",
    "### Use of the Query\n",
    "\n",
    "This query serves multiple important purposes:\n",
    "\n",
    "1. **Data Size Assessment**: It allows you to quickly assess the size of tables by providing row counts, aiding in understanding data distribution.\n",
    "\n",
    "2. **Database Optimization**: By identifying large tables, this query helps in optimizing database performance and resource utilization.\n",
    "\n",
    "3. **Data Profiling**: Data analysts can use this query for initial data profiling, understanding data volume within tables.\n",
    "\n",
    "4. **Capacity Planning**: Database administrators can leverage this query for capacity planning and resource allocation decisions.\n",
    "\n",
    "5. **Table Prioritization**: When working with large databases, this query helps prioritize attention to tables with the most rows.\n",
    "\n",
    "By executing this SQL query, you can obtain insights into the row counts of user-defined tables, assisting in data analysis, optimization, and planning efforts."
   ]
  },
  {
   "cell_type": "code",
   "execution_count": null,
   "id": "2d30f5bc",
   "metadata": {},
   "outputs": [],
   "source": []
  },
  {
   "cell_type": "markdown",
   "id": "6f9cf5fc",
   "metadata": {},
   "source": [
    "## <span style=\"color: blue;\">SQL Query for Listing Tables with Column Counts\n",
    "\n",
    "This SQL query is designed to list user-defined tables along with the count of columns in each table within a database. The query leverages Microsoft SQL Server's system views to access metadata about tables and columns.\n"
   ]
  },
  {
   "cell_type": "code",
   "execution_count": 10,
   "id": "019c2ba6",
   "metadata": {},
   "outputs": [
    {
     "data": {
      "text/html": [
       "<div>\n",
       "<style scoped>\n",
       "    .dataframe tbody tr th:only-of-type {\n",
       "        vertical-align: middle;\n",
       "    }\n",
       "\n",
       "    .dataframe tbody tr th {\n",
       "        vertical-align: top;\n",
       "    }\n",
       "\n",
       "    .dataframe thead th {\n",
       "        text-align: right;\n",
       "    }\n",
       "</style>\n",
       "<table border=\"1\" class=\"dataframe\">\n",
       "  <thead>\n",
       "    <tr style=\"text-align: right;\">\n",
       "      <th></th>\n",
       "      <th>table_name</th>\n",
       "      <th>column_count</th>\n",
       "    </tr>\n",
       "  </thead>\n",
       "  <tbody>\n",
       "    <tr>\n",
       "      <th>0</th>\n",
       "      <td>Categories</td>\n",
       "      <td>3</td>\n",
       "    </tr>\n",
       "    <tr>\n",
       "      <th>1</th>\n",
       "      <td>Customers</td>\n",
       "      <td>11</td>\n",
       "    </tr>\n",
       "    <tr>\n",
       "      <th>2</th>\n",
       "      <td>Employees</td>\n",
       "      <td>14</td>\n",
       "    </tr>\n",
       "    <tr>\n",
       "      <th>3</th>\n",
       "      <td>OrderDetails</td>\n",
       "      <td>5</td>\n",
       "    </tr>\n",
       "    <tr>\n",
       "      <th>4</th>\n",
       "      <td>Orders</td>\n",
       "      <td>14</td>\n",
       "    </tr>\n",
       "    <tr>\n",
       "      <th>5</th>\n",
       "      <td>Products</td>\n",
       "      <td>6</td>\n",
       "    </tr>\n",
       "    <tr>\n",
       "      <th>6</th>\n",
       "      <td>Shippers</td>\n",
       "      <td>3</td>\n",
       "    </tr>\n",
       "    <tr>\n",
       "      <th>7</th>\n",
       "      <td>Suppliers</td>\n",
       "      <td>11</td>\n",
       "    </tr>\n",
       "    <tr>\n",
       "      <th>8</th>\n",
       "      <td>sysdiagrams</td>\n",
       "      <td>5</td>\n",
       "    </tr>\n",
       "  </tbody>\n",
       "</table>\n",
       "</div>"
      ],
      "text/plain": [
       "     table_name  column_count\n",
       "0    Categories             3\n",
       "1     Customers            11\n",
       "2     Employees            14\n",
       "3  OrderDetails             5\n",
       "4        Orders            14\n",
       "5      Products             6\n",
       "6      Shippers             3\n",
       "7     Suppliers            11\n",
       "8   sysdiagrams             5"
      ]
     },
     "execution_count": 10,
     "metadata": {},
     "output_type": "execute_result"
    }
   ],
   "source": [
    "# SQL query to execute\n",
    "sql_query = '''SELECT t.name AS table_name, COUNT(c.name) AS column_count\n",
    "FROM sys.tables AS t\n",
    "JOIN sys.columns AS c ON t.object_id = c.object_id\n",
    "WHERE t.type_desc = 'USER_TABLE'\n",
    "GROUP BY t.name;'''\n",
    "\n",
    "# Execute the query and fetch results into a DataFrame\n",
    "df = pd.read_sql(sql_query, engine)\n",
    "\n",
    "# Print the DataFrame\n",
    "df"
   ]
  },
  {
   "cell_type": "markdown",
   "id": "fbb3c86b",
   "metadata": {},
   "source": [
    "The SQL query performs the following tasks:\n",
    "\n",
    "1. **Selection of Columns**: The query selects columns that provide insights into tables and column counts:\n",
    "   - `table_name`: The name of the user-defined table.\n",
    "   - `column_count`: The count of columns present in the table.\n",
    "\n",
    "2. **Joining System Views**:\n",
    "   - The query starts by selecting from the `sys.tables` system view to access information about tables.\n",
    "   - It performs an inner join with the `sys.columns` system view to link tables with their associated columns.\n",
    "\n",
    "3. **Filtering User-Defined Tables**:\n",
    "   - The `WHERE` clause filters results to include only user-defined tables (indicated by `t.type_desc = 'USER_TABLE'`).\n",
    "\n",
    "4. **Counting Columns**:\n",
    "   - The `COUNT(c.name)` function calculates the number of columns for each table.\n",
    "\n",
    "5. **Grouping Results**:\n",
    "   - The `GROUP BY` clause groups the results by table name, providing one row per table.\n",
    "\n",
    "### Use of the Query\n",
    "\n",
    "This query serves a specific purpose that can aid in database orientation and analysis:\n",
    "\n",
    "1. **Table Overview**: It provides an overview of user-defined tables and the number of columns within each table.\n",
    "\n",
    "2. **Schema Assessment**: Data modelers and administrators can quickly assess the complexity of tables by reviewing column counts.\n",
    "\n",
    "3. **Schema Documentation**: This query can be used to document table structures, aiding in future reference and understanding.\n",
    "\n",
    "4. **Database Navigation**: When exploring an unfamiliar database, this query helps identify key tables and their attributes.\n",
    "\n",
    "By executing this SQL query, you can efficiently obtain insights into the structure and complexity of user-defined tables, facilitating database analysis and exploration."
   ]
  },
  {
   "cell_type": "markdown",
   "id": "81a1647d",
   "metadata": {},
   "source": [
    "## <span style=\"color: blue;\">SQL Scheme and Python visualization\n",
    "    \n",
    "    This SQL code provides you with the visualized schema of your database content"
   ]
  },
  {
   "cell_type": "code",
   "execution_count": 23,
   "id": "8b5e8e30",
   "metadata": {
    "scrolled": false
   },
   "outputs": [
    {
     "data": {
      "image/png": "[encoded data removed]",
      "text/plain": [
       "<Figure size 640x480 with 1 Axes>"
      ]
     },
     "metadata": {},
     "output_type": "display_data"
    }
   ],
   "source": [
    "import pandas as pd\n",
    "import networkx as nx\n",
    "import matplotlib.pyplot as plt\n",
    "\n",
    "# Sample SQL query (replace with your actual SQL query)\n",
    "sql_query = '''SELECT\n",
    "                    fk.name AS foreign_key_name,\n",
    "                    OBJECT_NAME(fk.parent_object_id) AS parent_table,\n",
    "                    c1.name AS parent_column,\n",
    "                    OBJECT_NAME(fk.referenced_object_id) AS referenced_table,\n",
    "                    c2.name AS referenced_column\n",
    "                FROM sys.foreign_keys AS fk\n",
    "                INNER JOIN sys.foreign_key_columns AS fkc ON fk.object_id = fkc.constraint_object_id\n",
    "                INNER JOIN sys.columns AS c1 ON fkc.parent_object_id = c1.object_id AND fkc.parent_column_id = c1.column_id\n",
    "                INNER JOIN sys.columns AS c2 ON fkc.referenced_object_id = c2.object_id AND fkc.referenced_column_id = c2.column_id;'''\n",
    "\n",
    "# Execute the query and fetch results into a DataFrame\n",
    "df = pd.read_sql(sql_query, engine)\n",
    "\n",
    "# Create a graph\n",
    "G = nx.Graph()\n",
    "\n",
    "# Add nodes for tables\n",
    "tables = list(set(df['parent_table'].tolist() + df['referenced_table'].tolist()))\n",
    "G.add_nodes_from(tables)\n",
    "\n",
    "# Add edges for relationships\n",
    "relationships = df[['parent_table', 'referenced_table']].dropna().values.tolist()\n",
    "G.add_edges_from(relationships)\n",
    "\n",
    "# Draw the graph\n",
    "nx.draw(G, with_labels=True, node_size=3500, node_color='skyblue', font_size=10, font_color='black')\n",
    "plt.show()"
   ]
  },
  {
   "cell_type": "markdown",
   "id": "c9892cb9",
   "metadata": {},
   "source": [
    "#  <span style=\"color: red;\"> ✯✯✯✯✯✯✯✯✯✯✯✯✯✯✯✯✯✯✯✯✯✯✯✯✯✯✯✯✯✯✯✯✯✯✯✯✯✯✯✯✯✯✯✯"
   ]
  },
  {
   "cell_type": "markdown",
   "id": "90bbfa62",
   "metadata": {},
   "source": [
    "# 3. SELECT, FROM ,WHERE, DISTINCT, ORDER BY, LIMIT, AND & OR, LIKE, IN, NULL"
   ]
  },
  {
   "cell_type": "markdown",
   "id": "0fde954f",
   "metadata": {},
   "source": [
    "## Understanding SQL Execution Order\n",
    "\n",
    "SQL (Structured Query Language) is a powerful tool for managing and querying relational databases. To effectively write and analyze SQL queries, it's crucial to understand the sequence in which SQL statements are executed. This tutorial will walk you through the SQL execution order step by step.\n",
    "\n",
    "### 1. **FROM Clause**\n",
    "\n",
    "The SQL execution order starts with the `FROM` clause. In this step, the database engine identifies the source tables for the query. It accesses the specified tables and prepares them for further processing.\n",
    "\n",
    "### 2. **WHERE Clause**\n",
    "\n",
    "Next, the `WHERE` clause is applied. It filters rows from the source tables based on the specified conditions. Rows that don't meet the conditions are eliminated from consideration.\n",
    "\n",
    "### 3. **GROUP BY Clause**\n",
    "\n",
    "If a `GROUP BY` clause is present in the query, the data is then grouped according to the specified columns. Aggregation functions (e.g., `SUM`, `COUNT`, `AVG`) can be applied to these groups.\n",
    "\n",
    "### 4. **HAVING Clause**\n",
    "\n",
    "If a `HAVING` clause is used, it filters the aggregated results from the previous step based on specified conditions. This step is similar to the `WHERE` clause, but it operates on grouped and aggregated data.\n",
    "\n",
    "### 5. **SELECT Clause**\n",
    "\n",
    "In this step, the `SELECT` clause is executed. It retrieves the specified columns or expressions from the source data. If there are any calculations, transformations, or aliasing, they occur at this stage.\n",
    "\n",
    "### 6. **ORDER BY Clause**\n",
    "\n",
    "If an `ORDER BY` clause is present, the results are then sorted according to the specified columns and sorting directions. This step doesn't modify the actual data; it just determines the order in which the results are presented.\n",
    "\n",
    "### 7. **TOP Clause**\n",
    "\n",
    "In Microsoft SQL Server, the `TOP` clause is used to restrict the number of rows returned by a query. This is often used for implementing pagination or limiting the result set to a specific number of rows.\n",
    "\n"
   ]
  },
  {
   "cell_type": "markdown",
   "id": "a6ae9968",
   "metadata": {},
   "source": [
    "## <span style=\"color: blue;\">SELECT Statement\n",
    "The `SELECT` statement is used to retrieve data from a database. \n",
    "    \n",
    "It specifies the columns you want to retrieve data from and the table(s) you want to retrieve it from."
   ]
  },
  {
   "cell_type": "raw",
   "id": "de7c2a99",
   "metadata": {},
   "source": [
    "SELECT column1, column2\n",
    "FROM table_name;"
   ]
  },
  {
   "cell_type": "markdown",
   "id": "11ebf0b1",
   "metadata": {},
   "source": [
    "## SQL Statement Explanation\n",
    "\n",
    "- **SELECT:** This keyword indicates that you're retrieving data.\n",
    "- **column1, column2:** These are the names of the columns you want data from.\n",
    "- **FROM:** This keyword specifies the table from which you're retrieving data.\n",
    "- **table_name:** Replace this with the actual name of the table you're querying."
   ]
  },
  {
   "cell_type": "markdown",
   "id": "36f74f62",
   "metadata": {},
   "source": [
    "## <span style=\"color: blue;\">FROM Clause\n",
    "\n",
    "The `FROM` clause indicates the source table from which you're retrieving data.\n"
   ]
  },
  {
   "cell_type": "raw",
   "id": "ab851cc0",
   "metadata": {},
   "source": [
    "SELECT column1, column2\n",
    "FROM table_name;"
   ]
  },
  {
   "cell_type": "markdown",
   "id": "6a28b222",
   "metadata": {},
   "source": [
    "## SQL Statement Explanation\n",
    "\n",
    "- **FROM:** This keyword signifies that you're specifying the table to retrieve data from.\n",
    "- **table_name:** Replace this with the actual name of the table you're querying."
   ]
  },
  {
   "cell_type": "markdown",
   "id": "a086b6d0",
   "metadata": {},
   "source": [
    "# <span style=\"color: blue;\">WHERE Clause\n",
    "The `WHERE` clause filters rows based on specified conditions."
   ]
  },
  {
   "cell_type": "raw",
   "id": "bf15fce5",
   "metadata": {},
   "source": [
    "SELECT column1, column2\n",
    "FROM table_name\n",
    "WHERE condition;"
   ]
  },
  {
   "cell_type": "markdown",
   "id": "19e6723e",
   "metadata": {},
   "source": [
    "## SQL Statement Explanation\n",
    "\n",
    "- **WHERE:** This keyword is used to filter rows based on specific conditions.\n",
    "- **condition:** This is where you define the criteria that rows must meet to be included in the result set."
   ]
  },
  {
   "cell_type": "markdown",
   "id": "3d91f1ed",
   "metadata": {},
   "source": [
    "## <span style=\"color: blue;\">DISTINCT Keyword\n",
    "The `DISTINCT` keyword removes duplicate values from the result set."
   ]
  },
  {
   "cell_type": "raw",
   "id": "b17a5be9",
   "metadata": {},
   "source": [
    "SELECT DISTINCT column1, column2\n",
    "FROM table_name;"
   ]
  },
  {
   "cell_type": "markdown",
   "id": "001fad67",
   "metadata": {},
   "source": [
    "# SQL Statement Explanation\n",
    "\n",
    "- **DISTINCT:** Adding this keyword ensures that only unique values of the specified columns are returned.\n",
    "- **column1, column2:** These are the columns for which you want to retrieve distinct values.\n",
    "- **table_name:** Replace this with the name of the table you're querying."
   ]
  },
  {
   "cell_type": "markdown",
   "id": "a1da077d",
   "metadata": {},
   "source": [
    "## <span style=\"color: blue;\">ORDER BY Clause\n",
    "The `ORDER BY` clause sorts the result set based on specified columns."
   ]
  },
  {
   "cell_type": "raw",
   "id": "d3a91b75",
   "metadata": {},
   "source": [
    "SELECT column1, column2\n",
    "FROM table_name\n",
    "ORDER BY column1 ASC, column2 DESC;"
   ]
  },
  {
   "cell_type": "markdown",
   "id": "966e7100",
   "metadata": {},
   "source": [
    "## SQL Statement Explanation\n",
    "\n",
    "- **ORDER BY:** This keyword is used to sort the result set.\n",
    "- **column1 ASC:** This specifies that column1 should be sorted in ascending order.\n",
    "- **column2 DESC:** This specifies that column2 should be sorted in descending order."
   ]
  },
  {
   "cell_type": "markdown",
   "id": "1cd2fa7d",
   "metadata": {},
   "source": [
    "## <span style=\"color: blue;\">AND & OR Operators\n",
    "The `AND` and `OR` operators combine conditions in the WHERE clause."
   ]
  },
  {
   "cell_type": "raw",
   "id": "a8af6bbe",
   "metadata": {},
   "source": [
    "SELECT column1, column2\n",
    "FROM table_name\n",
    "WHERE condition1 AND condition2;"
   ]
  },
  {
   "cell_type": "markdown",
   "id": "981d41d9",
   "metadata": {},
   "source": [
    "## SQL Statement Explanation\n",
    "\n",
    "- **AND:** This operator requires both conditions to be true for a row to be included.\n",
    "- **OR:** This operator requires at least one of the conditions to be true for a row to be included."
   ]
  },
  {
   "cell_type": "markdown",
   "id": "9723851a",
   "metadata": {},
   "source": [
    "## <span style=\"color: blue;\">IN Operator\n",
    "The `IN` operator checks if a value matches any in a list."
   ]
  },
  {
   "cell_type": "raw",
   "id": "adb9ff3f",
   "metadata": {},
   "source": [
    "SELECT column1, column2\n",
    "FROM table_name\n",
    "WHERE column1 IN ('value1', 'value2');"
   ]
  },
  {
   "cell_type": "markdown",
   "id": "2e7ba06c",
   "metadata": {},
   "source": [
    "## SQL Statement Explanation\n",
    "\n",
    "- **IN:** This operator checks if a value matches any value in the specified list.\n",
    "- **'value1', 'value2':** These are the values you're checking for."
   ]
  },
  {
   "cell_type": "markdown",
   "id": "eadb4e24",
   "metadata": {},
   "source": [
    "## <span style=\"color: blue;\">LIKE Operator\n",
    "The `LIKE` operator performs pattern matching on text columns."
   ]
  },
  {
   "cell_type": "raw",
   "id": "2eab908f",
   "metadata": {},
   "source": [
    "-- Match names starting with \"Jo\"\n",
    "SELECT name\n",
    "FROM people\n",
    "WHERE name LIKE 'Jo%';\n",
    "\n",
    "-- Match names ending with \"hn\"\n",
    "SELECT name\n",
    "FROM people\n",
    "WHERE name LIKE '%hn';\n",
    "\n",
    "-- Match names containing \"a\" as the second character\n",
    "SELECT name\n",
    "FROM people\n",
    "WHERE name LIKE '_a%';\n",
    "\n",
    "-- Match names with the first character as \"J\" and the second character as \"o\"\n",
    "SELECT name\n",
    "FROM people\n",
    "WHERE name LIKE 'J_o%';\n",
    "\n",
    "-- Match names not starting with vowels\n",
    "SELECT name\n",
    "FROM people\n",
    "WHERE name LIKE '[^aeiou]%';"
   ]
  },
  {
   "cell_type": "markdown",
   "id": "e04c1589",
   "metadata": {},
   "source": [
    "## SQL Statement Explanation\n",
    "\n",
    "The `LIKE` operator is used for pattern matching within column values. Here are some common patterns along with their explanations:\n",
    "\n",
    "- **WHERE Name LIKE 'a%':** This pattern matches values that __start__ with \"a\".\n",
    "\n",
    "\n",
    "- **WHERE Name LIKE '%a':** This pattern matches values that __end__ with \"a\".\n",
    "\n",
    "\n",
    "- **WHERE CName LIKE '%or%':** This pattern matches values that __have__ \"or\" __in any position.__\n",
    "\n",
    "\n",
    "- **WHERE CName LIKE '_r%':** This pattern matches values that __have__ \"r\" __in the second position.__\n",
    "\n",
    "\n",
    "- **WHERE Name LIKE 'a_%':** This pattern matches values that __start__ with \"a\" and are __at least 2 characters in length.__\n",
    "\n",
    "\n",
    "- **WHERE Name LIKE 'a__%':** This pattern matches values that __start__ with \"a\" and are __at least 3 characters in length.__\n",
    "\n",
    "\n",
    "- **WHERE Name LIKE 'a%o':** This pattern matches values that __start__ with \"a\" __and end with__ \"o\".\n",
    "\n",
    "\n",
    "- **WHERE name LIKE '_[aeiou]%'':** This pattern matches values with the second letter being a vowel.__\n",
    "\n",
    "\n",
    "- **WHERE name LIKE '%[ao]t':** This pattern matches values that __end__ with \"at\" __or__ \"og\" as the __last two letters.__"
   ]
  },
  {
   "cell_type": "markdown",
   "id": "2e074d26",
   "metadata": {},
   "source": [
    "## Wildcard Options\n",
    "\n",
    "- **%**: Represents any sequence of characters (including zero characters).\n",
    "- **_**: Represents a single character.\n",
    "- **[]**: Specifies a character set, matching any single character within the set.\n",
    "- **[^]**: Specifies a character set, matching any single character not within the set."
   ]
  },
  {
   "cell_type": "markdown",
   "id": "e4a46b08",
   "metadata": {},
   "source": [
    "## <span style=\"color: blue;\">TOP Clause\n",
    "\n",
    "The `TOP` clause is used to specify the number of rows to be retrieved from the result set. It is often used with the `SELECT` statement to limit the number of rows returned.\n"
   ]
  },
  {
   "cell_type": "raw",
   "id": "fde6c22f",
   "metadata": {},
   "source": [
    "SELECT TOP (number) column1, column2\n",
    "FROM table_name;"
   ]
  },
  {
   "cell_type": "markdown",
   "id": "e0c6db2b",
   "metadata": {},
   "source": [
    "## SQL Statement Explanation\n",
    "\n",
    "The `TOP` clause is used to specify the number of rows to be retrieved from the result set. It is often used with the `SELECT` statement to limit the number of rows returned."
   ]
  },
  {
   "cell_type": "markdown",
   "id": "1b8cb701",
   "metadata": {},
   "source": [
    "## <span style=\"color: blue;\">HAVING Operator\n",
    "The `HAVING` clause is used to filter the result set after the `GROUP BY` clause has been applied. It allows you to filter aggregated data based on specified conditions."
   ]
  },
  {
   "cell_type": "raw",
   "id": "3afd7d97",
   "metadata": {},
   "source": [
    "SELECT column1, column2, aggregate_function(column3)\n",
    "FROM table_name\n",
    "GROUP BY column1, column2\n",
    "HAVING aggregate_function(column3) condition;"
   ]
  },
  {
   "cell_type": "markdown",
   "id": "8711cb04",
   "metadata": {},
   "source": [
    "## SQL Statement Explanation\n",
    "\n",
    "The `HAVING` clause is used to filter the result set after the `GROUP BY` clause has been applied. It allows you to filter aggregated data based on specified conditions.\n",
    "\n",
    "### Use of the HAVING Clause\n",
    "\n",
    "- **AND:** This operator is used within the `HAVING` clause and requires both conditions to be true for a group to be included in the result set.\n",
    "\n",
    "- **OR:** This operator is also used within the `HAVING` clause and requires at least one of the conditions to be true for a group to be included in the result set.\n",
    "\n",
    "### Example\n",
    "\n",
    "Suppose you have a table named `orders` with columns `customer_id`, `order_date`, and `order_total`.\n",
    "\n",
    "To retrieve customers who have placed orders with a total greater than 1000 and whose last order date is after a certain date, you can use the following query:\n",
    "\n"
   ]
  },
  {
   "cell_type": "raw",
   "id": "696d1ecb",
   "metadata": {},
   "source": [
    "SELECT customer_id, SUM(order_total) AS total_spent\n",
    "FROM orders\n",
    "GROUP BY customer_id\n",
    "HAVING SUM(order_total) > 1000 AND MAX(order_date) > '2023-01-01';"
   ]
  },
  {
   "cell_type": "markdown",
   "id": "667f72a6",
   "metadata": {},
   "source": [
    "## <span style=\"color: blue;\">NULL Values\n",
    "Check for `NULL` values using IS NULL or IS NOT NULL"
   ]
  },
  {
   "cell_type": "raw",
   "id": "8550bbb6",
   "metadata": {},
   "source": [
    "SELECT column1, column2\n",
    "FROM table_name\n",
    "WHERE column1 IS NULL;"
   ]
  },
  {
   "cell_type": "markdown",
   "id": "e5ec51b1",
   "metadata": {},
   "source": [
    "## SQL Statement Explanation\n",
    "\n",
    "- **IS NULL:** This condition filters out rows where the specified column has no value.\n",
    "\n",
    "- **IS NOT NULL:** This condition filters out rows where the specified column has a value."
   ]
  },
  {
   "cell_type": "markdown",
   "id": "deb33289",
   "metadata": {},
   "source": [
    "## <span style=\"color: blue;\">EXISTS Clause\n",
    "The `EXISTS` clause is used in SQL to test for the existence of rows returned by a subquery. It is typically used in conjunction with a correlated subquery or as a part of conditional expressions."
   ]
  },
  {
   "cell_type": "raw",
   "id": "4be73c6a",
   "metadata": {},
   "source": [
    "SELECT StudentName\n",
    "FROM Students s\n",
    "WHERE EXISTS (\n",
    "    SELECT 1\n",
    "    FROM Grades g\n",
    "    WHERE g.StudentID = s.StudentID\n",
    "    AND g.Score >= 90\n",
    ");\n",
    "\n",
    "SELECT [ProductID]\n",
    "      ,a.[Name]\n",
    "      ,[SupplierID]\n",
    "      ,a.[CategoryID]\n",
    "      ,[Unitprice]\n",
    "      ,[Discontinued]\n",
    "  FROM [Eshop].[Production].[Products] AS A \n",
    "  \n",
    "  WHERE EXISTS (SELECT 1 FROM [Eshop].[Production].[Categories] as b WHERE CategoryID < 5\n",
    "  and a.CategoryID = b.CategoryID)"
   ]
  },
  {
   "cell_type": "markdown",
   "id": "eb0d58e7",
   "metadata": {},
   "source": [
    "In this example:\n",
    "\n",
    "- The main query selects `StudentName` from the `Students` table.\n",
    "\n",
    "- The subquery checks if there exists at least one row in the `Grades` table where the `StudentID` matches the `StudentID` in the main query and the `Score` is greater than or equal to 90.\n",
    "\n",
    "- If such a row exists in `Grades` for a particular student, that student's `StudentName` is included in the result."
   ]
  },
  {
   "cell_type": "markdown",
   "id": "c49d0108",
   "metadata": {},
   "source": [
    "In second query:\n",
    "\n",
    "- The main query selects information about products from the `[Eshop].[Production].[Products]` table (aliased as `A`).\n",
    "\n",
    "- The subquery checks if there exists at least one row in the `[Eshop].[Production].[Categories]` table (aliased as `b`) where `CategoryID` is less than 3, and where the `CategoryID` of the main query matches the `CategoryID` of the subquery.\n",
    "\n",
    "- If such a matching category exists in `[Eshop].[Production].[Categories]` for a particular product, that product's information (including `ProductID`, `Name`, `SupplierID`, `CategoryID`, `UnitPrice`, and `Discontinued`) is included in the result.\n",
    "\n",
    "This query effectively retrieves products belonging to categories with `CategoryID` less than 3, demonstrating how the `WHERE EXISTS` clause can filter results based on the existence of related data."
   ]
  },
  {
   "cell_type": "markdown",
   "id": "af9a1274",
   "metadata": {},
   "source": [
    "## Use Cases\n",
    "\n",
    "The EXISTS clause is valuable in several scenarios:\n",
    "\n",
    "1. **Conditional Filtering**: You can use EXISTS to filter rows based on specific conditions that involve related data in other tables.\n",
    "\n",
    "2. **De-Duplication**: When used in conjunction with correlated subqueries, EXISTS helps prevent duplicate rows in query results.\n",
    "\n",
    "3. **Data Validation**: It's useful for checking the existence of related data before performing an action, such as inserting or updating records.\n",
    "\n",
    "4. **Complex Query Logic**: EXISTS is often used in complex queries to implement conditional logic based on the presence or absence of related data.\n",
    "\n",
    "The EXISTS clause is a powerful tool for handling conditional queries and ensuring data integrity in SQL."
   ]
  },
  {
   "cell_type": "markdown",
   "id": "c64bc972",
   "metadata": {},
   "source": [
    "# <span style=\"color: red;\"> ✯✯✯✯✯✯✯✯✯✯✯✯✯✯✯✯✯✯✯✯✯✯✯✯✯✯✯✯✯✯✯✯✯✯✯✯✯✯✯✯✯✯✯✯"
   ]
  },
  {
   "cell_type": "markdown",
   "id": "e2dfd4b2",
   "metadata": {},
   "source": [
    "# 4. Data definiton language(DDL), Data manipualtion language(DML)"
   ]
  },
  {
   "cell_type": "markdown",
   "id": "73e66158",
   "metadata": {},
   "source": [
    "**Data Definition Language (DDL) Statements:**\n",
    "\n",
    "- `CREATE`: Used for defining new database objects like tables, indexes, views, and databases.\n",
    "- `DROP`: Used for deleting existing database objects.\n",
    "- `ALTER`: Used for modifying the structure of an existing database object.\n",
    "\n",
    "**Data Manipulation Language (DML) Statements:**\n",
    "\n",
    "- `UPDATE`: Used for modifying data in existing rows of a table.\n",
    "- `DELETE`: Used for removing data from a table."
   ]
  },
  {
   "cell_type": "markdown",
   "id": "08728eb4",
   "metadata": {},
   "source": [
    "# Data types"
   ]
  },
  {
   "cell_type": "markdown",
   "id": "0d0219de",
   "metadata": {},
   "source": [
    "### INT (Integer):\n",
    "\n",
    "- **Description:** Stores whole numbers without fractional components.\n",
    "- **Range:** Approximately -2.1 billion to 2.1 billion for a standard 4-byte INT (32 bits).\n",
    "- **Storage Size:** Typically 4 bytes (32 bits).\n",
    "- **SQL Code Example:** INT\n",
    "\n",
    "### CHAR (Character):\n",
    "\n",
    "- **Description:** Fixed-length character strings.\n",
    "- **Size:** You specify the size when creating the column (e.g., CHAR(10)).\n",
    "- **Storage Size:** Takes up the specified size even if the actual text is shorter.\n",
    "- **SQL Code Example:** CHAR(10)\n",
    "\n",
    "### VARCHAR (Variable Character):\n",
    "\n",
    "- **Description:** Variable-length character strings.\n",
    "- **Size:** The size you specify (e.g., VARCHAR(50)) determines the maximum number of characters it can store.\n",
    "- **Storage Size:** Varies depending on the length of the data stored.\n",
    "- **SQL Code Example:** VARCHAR(50)\n",
    "\n",
    "### TEXT:\n",
    "\n",
    "- **Description:** Variable-length text data.\n",
    "- **Size:** Can store a large amount of text (up to database limits).\n",
    "- **Storage Size:** Varies depending on the length of the data stored.\n",
    "- **SQL Code Example:** TEXT\n",
    "\n",
    "### NUMERIC/DECIMAL:\n",
    "\n",
    "- **Description:** Fixed-point or floating-point numbers.\n",
    "- **Size:** You specify the precision (total number of digits) and scale (number of decimal places) when creating the column (e.g., NUMERIC(10, 2)).\n",
    "- **Storage Size:** Varies depending on the precision and scale, but it's typically larger than other numeric types due to fixed-point storage.\n",
    "- **SQL Code Example:** NUMERIC(10, 2)\n",
    "\n",
    "### DATE:\n",
    "\n",
    "- **Description:** Stores date values (year, month, day).\n",
    "- **Range:** Varies depending on the database system but typically covers a wide range of dates.\n",
    "- **Storage Size:** Typically 3 bytes.\n",
    "- **SQL Code Example:** DATE\n",
    "\n",
    "### TIME:\n",
    "\n",
    "- **Description:** Stores time values (hours, minutes, seconds, and fractions of seconds).\n",
    "- **Range:** Covers a range from 00:00:00.0000000 to 23:59:59.9999999.\n",
    "- **Storage Size:** Varies by database system but typically around 3-5 bytes.\n",
    "- **SQL Code Example:** TIME\n",
    "\n",
    "### DATETIME/TIMESTAMP:\n",
    "\n",
    "- **Description:** Stores date and time values.\n",
    "- **Range:** Covers a wide range of dates and times.\n",
    "- **Storage Size:** Varies by database system but typically around 8 bytes.\n",
    "- **SQL Code Example:** DATETIME or TIMESTAMP\n",
    "\n",
    "### BOOLEAN:\n",
    "\n",
    "- **Description:** Stores true/false or yes/no values.\n",
    "- **Range:** Two possible values: TRUE or FALSE.\n",
    "- **Storage Size:** Typically 1 byte.\n",
    "- **SQL Code Example:** BOOLEAN"
   ]
  },
  {
   "cell_type": "markdown",
   "id": "5a07f56d",
   "metadata": {},
   "source": [
    "## <span style=\"color: blue;\">CREATE Statement\n",
    "\n",
    "The `CREATE` statement is used to create new database objects, including tables, indexes, views, procedures, and databases themselves. It defines the structure and characteristics of the object."
   ]
  },
  {
   "cell_type": "raw",
   "id": "b4594a4c",
   "metadata": {},
   "source": [
    "CREATE TABLE customers (\n",
    "    customer_id INT PRIMARY KEY,\n",
    "    first_name VARCHAR(50),\n",
    "    last_name VARCHAR(50),\n",
    "    email VARCHAR(100)\n",
    ");"
   ]
  },
  {
   "cell_type": "markdown",
   "id": "b2fe3f86",
   "metadata": {},
   "source": [
    "## Use Cases\n",
    "\n",
    "**Table Creation:** Use CREATE TABLE to define the structure of a new table, including its columns, data types, and constraints.\n",
    "\n",
    "**Index Creation:** Use CREATE INDEX to create an index on one or more columns of a table, which can improve query performance.\n",
    "\n",
    "**View Creation:** Use CREATE VIEW to define a virtual table based on the result of a query, simplifying complex queries.\n",
    "\n",
    "**Procedure Creation:** Use CREATE PROCEDURE to define a stored procedure that encapsulates a series of SQL statements for reuse.\n",
    "\n",
    "**Database Creation:** Use CREATE DATABASE to create a new database within a database management system."
   ]
  },
  {
   "cell_type": "markdown",
   "id": "855422f8",
   "metadata": {},
   "source": [
    "## <span style=\"color: blue;\">DROP Statement\n",
    "\n",
    "The `DROP` statement is used to delete existing database objects such as tables, indexes, views, or even databases themselves. It permanently removes these objects from the database."
   ]
  },
  {
   "cell_type": "raw",
   "id": "6cf04b5c",
   "metadata": {},
   "source": [
    "DROP TABLE customers;"
   ]
  },
  {
   "cell_type": "markdown",
   "id": "8aeb6358",
   "metadata": {},
   "source": [
    "## Use Cases\n",
    "\n",
    "- **Removing Unused Objects:** Use DROP to delete tables, views, or other objects that are no longer needed in the database.\n",
    "\n",
    "- **Database Cleanup:** When migrating or updating a database schema, use DROP to clean up old or deprecated structures."
   ]
  },
  {
   "cell_type": "markdown",
   "id": "f15fc4a1",
   "metadata": {},
   "source": [
    "## <span style=\"color: blue;\">UPDATE Statement\n",
    "\n",
    "The `UPDATE` statement is used to modify existing records in a table. It allows you to change the values of one or more columns in one or more rows of a table based on specified conditions."
   ]
  },
  {
   "cell_type": "raw",
   "id": "2f214f00",
   "metadata": {},
   "source": [
    "UPDATE employees\n",
    "SET salary = 60000, email = 'geroge@google.com'\n",
    "WHERE employee_id = 101;"
   ]
  },
  {
   "cell_type": "markdown",
   "id": "57f98d21",
   "metadata": {},
   "source": [
    "## Use Cases\n",
    "\n",
    "- **Data Modification:** Use UPDATE to change existing data, such as updating employee information or marking orders as shipped.\n",
    "\n",
    "- **Data Cleansing:** Correct data errors or inconsistencies in a database."
   ]
  },
  {
   "cell_type": "markdown",
   "id": "376b5eae",
   "metadata": {},
   "source": [
    "## <span style=\"color: blue;\">ALTER Statement\n",
    "\n",
    "The `ALTER` statement is used to modify the structure of an existing database object, such as a table. It allows you to add, modify, or delete columns, constraints, or other properties."
   ]
  },
  {
   "cell_type": "code",
   "execution_count": null,
   "id": "fed7288d",
   "metadata": {},
   "outputs": [],
   "source": [
    "ALTER TABLE employees\n",
    "ADD hire_date DATE;"
   ]
  },
  {
   "cell_type": "markdown",
   "id": "1e318ddb",
   "metadata": {},
   "source": [
    "## Use Cases\n",
    "\n",
    "- **Table Structure Changes:** Use ALTER to add or remove columns, change data types, or modify constraints in a table.\n",
    "\n",
    "- **Database Evolution:** As your application evolves, use ALTER to adapt the database schema to new requirements."
   ]
  },
  {
   "cell_type": "markdown",
   "id": "a650b1c5",
   "metadata": {},
   "source": [
    "## <span style=\"color: blue;\">DELETE Statement\n",
    "\n",
    "The `DELETE` statement is used to remove one or more rows from a table based on specified conditions. Unlike DROP, DELETE removes data but leaves the table structure intact."
   ]
  },
  {
   "cell_type": "code",
   "execution_count": null,
   "id": "02d0b4cd",
   "metadata": {},
   "outputs": [],
   "source": [
    "DELETE FROM users\n",
    "WHERE is_active = 0;"
   ]
  },
  {
   "cell_type": "markdown",
   "id": "a38e38e1",
   "metadata": {},
   "source": [
    "## Use Cases\n",
    "\n",
    "- **Data Removal:** Use DELETE to remove unwanted or obsolete data from a table, such as expired records.\n",
    "\n",
    "- **Data Archiving:** When working with historical data, use DELETE to move old records to an archive table."
   ]
  },
  {
   "cell_type": "markdown",
   "id": "d1f1bf96",
   "metadata": {},
   "source": [
    "# <span style=\"color: red;\"> ✯✯✯✯✯✯✯✯✯✯✯✯✯✯✯✯✯✯✯✯✯✯✯✯✯✯✯✯✯✯✯✯✯✯✯✯✯✯✯✯✯✯✯✯"
   ]
  },
  {
   "cell_type": "markdown",
   "id": "1808047e",
   "metadata": {},
   "source": [
    "# 5. SQL Joins:\n",
    "\n",
    "Joins are used to combine rows from two or more tables based on a related column between them. They allow you to retrieve data from multiple tables simultaneously, making it possible to work with relational data."
   ]
  },
  {
   "cell_type": "raw",
   "id": "c887fc7a",
   "metadata": {},
   "source": [
    "SELECT columns\n",
    "FROM table1\n",
    "JOIN table2 ON table1.column_name = table2.column_name;"
   ]
  },
  {
   "cell_type": "markdown",
   "id": "d51e5694",
   "metadata": {},
   "source": [
    "# INNER JOIN:\n",
    "\n",
    "The most common type of join. It returns only the rows where there is a match between the columns in both tables."
   ]
  },
  {
   "cell_type": "raw",
   "id": "07dd5b0a",
   "metadata": {},
   "source": [
    "SELECT columns\n",
    "FROM table1\n",
    "INNER JOIN table2 ON table1.column_name = table2.column_name;"
   ]
  },
  {
   "cell_type": "markdown",
   "id": "cf20e82a",
   "metadata": {},
   "source": [
    "# LEFT (OUTER) JOIN:\n",
    "\n",
    "Returns all rows from the left table (table1), and the matched rows from the right table (table2). If there's no match, NULL values are returned for columns from the right table."
   ]
  },
  {
   "cell_type": "raw",
   "id": "39d7561c",
   "metadata": {},
   "source": [
    "SELECT columns\n",
    "FROM table1\n",
    "LEFT JOIN table2 ON table1.column_name = table2.column_name;"
   ]
  },
  {
   "cell_type": "markdown",
   "id": "5d597288",
   "metadata": {},
   "source": [
    "# RIGHT (OUTER) JOIN:\n",
    "\n",
    "Opposite of the LEFT JOIN. Returns all rows from the right table (table2) and matched rows from the left table (table1)."
   ]
  },
  {
   "cell_type": "raw",
   "id": "a420bdf8",
   "metadata": {},
   "source": [
    "SELECT columns\n",
    "FROM table1\n",
    "RIGHT JOIN table2 ON table1.column_name = table2.column_name;"
   ]
  },
  {
   "cell_type": "markdown",
   "id": "f17e32c2",
   "metadata": {},
   "source": [
    "# FULL (OUTER) JOIN:\n",
    "\n",
    "Returns all rows when there's a match in either the left or the right table. If there's no match, NULL values are returned for columns from the non-matching table."
   ]
  },
  {
   "cell_type": "raw",
   "id": "abbfc2e5",
   "metadata": {},
   "source": [
    "SELECT columns\n",
    "FROM table1\n",
    "FULL JOIN table2 ON table1.column_name = table2.column_name;"
   ]
  },
  {
   "cell_type": "markdown",
   "id": "6b8bf53a",
   "metadata": {},
   "source": [
    "# SELF JOIN:\n",
    "\n",
    "A self-join is used to combine rows from the same table. It's like treating a table as if it were two separate tables with different aliases."
   ]
  },
  {
   "cell_type": "raw",
   "id": "f481274b",
   "metadata": {},
   "source": [
    "SELECT e1.name, e2.name\n",
    "FROM employees e1\n",
    "INNER JOIN employees e2 ON e1.manager_id = e2.employee_id;"
   ]
  },
  {
   "cell_type": "markdown",
   "id": "dbda92a7",
   "metadata": {},
   "source": [
    "# <span style=\"color: red;\"> ✯✯✯✯✯✯✯✯✯✯✯✯✯✯✯✯✯✯✯✯✯✯✯✯✯✯✯✯✯✯✯✯✯✯✯✯✯✯✯✯✯✯✯✯"
   ]
  },
  {
   "cell_type": "markdown",
   "id": "83e881e2",
   "metadata": {},
   "source": [
    "# 6. WINDOW FUNCTIONS"
   ]
  },
  {
   "cell_type": "markdown",
   "id": "6a6878c8",
   "metadata": {},
   "source": [
    "## <span style=\"color: blue;\">SUM() - Window Version\n",
    "\n",
    "The `SUM()` window function calculates the sum of a specific column's values within a window frame. It's useful for obtaining cumulative or running totals."
   ]
  },
  {
   "cell_type": "raw",
   "id": "b48a91f7",
   "metadata": {},
   "source": [
    "SELECT\n",
    "    order_date,\n",
    "    order_amount,\n",
    "    SUM(Amount) OVER (PARTITION BY TeamNumber) AS cumulative_sales\n",
    "FROM orders;"
   ]
  },
  {
   "cell_type": "markdown",
   "id": "cbe48fd9",
   "metadata": {},
   "source": [
    "## Use Case and Benefit\n",
    "\n",
    "When analyzing sales data over time, `SUM()` helps in computing cumulative sales. This is valuable for monitoring revenue growth and identifying trends."
   ]
  },
  {
   "cell_type": "markdown",
   "id": "c89fb271",
   "metadata": {},
   "source": [
    "## <span style=\"color: blue;\">AVG() - Window Version\n",
    "\n",
    "The `AVG()` window function computes the average of a column's values within a window frame. It's beneficial for understanding trends and patterns."
   ]
  },
  {
   "cell_type": "raw",
   "id": "2a7ba19f",
   "metadata": {},
   "source": [
    "SELECT\n",
    "    month,\n",
    "    revenue,\n",
    "    AVG(Amount) OVER (PARTITION BY TeamNumber) AS Average_Sales\n",
    "FROM monthly_sales;"
   ]
  },
  {
   "cell_type": "markdown",
   "id": "0c0bb7b4",
   "metadata": {},
   "source": [
    "## Use Case and Benefit\n",
    "\n",
    "In financial analysis, `AVG()` enables you to calculate the overall average monthly revenue. This assists in recognizing performance trends and comparing individual months to the overall average."
   ]
  },
  {
   "cell_type": "markdown",
   "id": "44a7bc77",
   "metadata": {},
   "source": [
    "## <span style=\"color: blue;\">MAX() - Window Version\n",
    "\n",
    "The `MAX()` window function identifies the maximum value within a window frame. It's helpful for finding peaks or high points in data."
   ]
  },
  {
   "cell_type": "raw",
   "id": "6c280aad",
   "metadata": {},
   "source": [
    "SELECT\n",
    "    day,\n",
    "    temperature,\n",
    "    MAX(Number_of_Orders_day) OVER (PARTITION BY Team_Number) AS max_orders_day\n",
    "FROM Orders;"
   ]
  },
  {
   "cell_type": "markdown",
   "id": "1fc683d9",
   "metadata": {},
   "source": [
    "## Use Case and Benefit\n",
    "\n",
    "In orders analysis, `MIN()` helps identify the overall lowest number of orders recorded across all days. This information is essential for understanding order variations."
   ]
  },
  {
   "cell_type": "markdown",
   "id": "8e34968f",
   "metadata": {},
   "source": [
    "## <span style=\"color: blue;\">MIN() - Window Version\n",
    "\n",
    "The `MIN()` window function identifies the minimum value within a window frame. It's valuable for finding troughs or low points in data."
   ]
  },
  {
   "cell_type": "raw",
   "id": "d39aa2ac",
   "metadata": {},
   "source": [
    "SELECT\n",
    "    day,\n",
    "    temperature,\n",
    "    MIN(Number_of_Orders_day) OVER (PARTITION BY Team_Number) AS max_orders_day\n",
    "FROM Orders;"
   ]
  },
  {
   "cell_type": "markdown",
   "id": "de02ae90",
   "metadata": {},
   "source": [
    "## Use Case and Benefit\n",
    "\n",
    "In orders analysis, `MIN()` helps identify the overall lowest number of orders recorded across all days. This information is essential for understanding order variations."
   ]
  },
  {
   "cell_type": "markdown",
   "id": "68efa076",
   "metadata": {},
   "source": [
    "## <span style=\"color: blue;\">COUNT() - Window Version\n",
    "\n",
    "The `COUNT()` window function calculates the number of rows in a window frame. It's useful for determining the size of specific data segments."
   ]
  },
  {
   "cell_type": "raw",
   "id": "47e2fe7c",
   "metadata": {},
   "source": [
    "SELECT\n",
    "    category,\n",
    "    product_name,\n",
    "    COUNT(*) OVER (PARTITION BY category) AS category_product_count\n",
    "FROM products;"
   ]
  },
  {
   "cell_type": "markdown",
   "id": "15efb3b7",
   "metadata": {},
   "source": [
    "## Use Case and Benefit\n",
    "\n",
    "When categorizing products, `COUNT()` can be used to determine the number of products within each category. This is essential for inventory management and reporting."
   ]
  },
  {
   "cell_type": "markdown",
   "id": "98a53651",
   "metadata": {},
   "source": [
    "## <span style=\"color: blue;\">ROW_NUMBER()\n",
    "\n",
    "The `ROW_NUMBER()` window function provides a unique identifier to each row in a result set. It's ideal for creating a sequence of rows for tracking purposes or ranking."
   ]
  },
  {
   "cell_type": "raw",
   "id": "7b9b59a9",
   "metadata": {},
   "source": [
    "SELECT\n",
    "    product_name,\n",
    "    unit_price,\n",
    "    ROW_NUMBER() OVER (ORDER BY unit_price DESC) AS row_sequence\n",
    "FROM products;"
   ]
  },
  {
   "cell_type": "markdown",
   "id": "8f012e9e",
   "metadata": {},
   "source": [
    "__Use Case and Benefit__\n",
    "\n",
    "When showcasing products by their price range, you can use ROW_NUMBER() to assign a sequential number based on high unit prices. This aids in highlighting premium products and creates an ordered presentation."
   ]
  },
  {
   "cell_type": "markdown",
   "id": "1db4a11f",
   "metadata": {},
   "source": [
    "### Use Case with PARTITION BY\n",
    "When you need to maintain continuous ranking within specific categories, the PARTITION BY clause can be used with the DENSE_RANK() function. For instance:"
   ]
  },
  {
   "cell_type": "raw",
   "id": "3df578eb",
   "metadata": {},
   "source": [
    "SELECT\n",
    "    category,\n",
    "    product_name,\n",
    "    unit_price,\n",
    "    ROW_NUMBER() OVER (PARTITION BY category ORDER BY unit_price DESC) AS row_sequence\n",
    "FROM products;"
   ]
  },
  {
   "cell_type": "markdown",
   "id": "25df546b",
   "metadata": {},
   "source": [
    "Here, the row numbers will be reset for each unique category, allowing you to create row sequences within individual product categories."
   ]
  },
  {
   "cell_type": "markdown",
   "id": "d5fcebaf",
   "metadata": {},
   "source": [
    "## <span style=\"color: blue;\">RANK()\n",
    "\n",
    "The `RANK()` window function assigns distinct ranks to rows based on a specific order. It's valuable for comparing items with the same attributes, such as sales amounts."
   ]
  },
  {
   "cell_type": "code",
   "execution_count": null,
   "id": "f84f6741",
   "metadata": {},
   "outputs": [],
   "source": [
    "SELECT\n",
    "    employee_name,\n",
    "    sales_amount,\n",
    "    RANK() OVER (ORDER BY sales_amount DESC) AS sales_rank\n",
    "FROM sales_team;"
   ]
  },
  {
   "cell_type": "markdown",
   "id": "40c5fdfc",
   "metadata": {},
   "source": [
    "__Use Case and Benefit__\n",
    "\n",
    "When recognizing the top salespeople in a team, RANK() lets you create a ranking based on sales performance. It's helpful for acknowledging high-performing individuals even if they have the same sales amounts."
   ]
  },
  {
   "cell_type": "markdown",
   "id": "cd9ed5a2",
   "metadata": {},
   "source": [
    "### Use Case with PARTITION BY\n",
    "In scenarios where you want to rank items within distinct groups, the PARTITION BY clause can be added to the RANK() function. For example:"
   ]
  },
  {
   "cell_type": "raw",
   "id": "4a207313",
   "metadata": {},
   "source": [
    "SELECT\n",
    "    department,\n",
    "    employee_name,\n",
    "    sales_amount,\n",
    "    RANK() OVER (PARTITION BY department ORDER BY sales_amount DESC) AS department_rank\n",
    "FROM sales_team;"
   ]
  },
  {
   "cell_type": "markdown",
   "id": "da158b28",
   "metadata": {},
   "source": [
    "By using PARTITION BY, you can assign ranks separately for each department based on their respective sales performance."
   ]
  },
  {
   "cell_type": "markdown",
   "id": "f9913ca8",
   "metadata": {},
   "source": [
    "## <span style=\"color: blue;\">DENSE_RANK()\n",
    "\n",
    "The `DENSE_RANK()` window function assigns continuous ranks to rows, even in cases of ties. It's useful when you want a continuous ranking without skipping ranks."
   ]
  },
  {
   "cell_type": "raw",
   "id": "e7a08366",
   "metadata": {},
   "source": [
    "SELECT\n",
    "    product_name,\n",
    "    unit_price,\n",
    "    DENSE_RANK() OVER (ORDER BY unit_price) AS price_rank\n",
    "FROM products;"
   ]
  },
  {
   "cell_type": "markdown",
   "id": "d3d4e87b",
   "metadata": {},
   "source": [
    "__Use Case and Benefit__\n",
    "\n",
    "In price-sensitive markets, DENSE_RANK() can be employed to create a seamless rank of products based on their unit prices. This ensures each product receives a unique rank, maintaining the overall order."
   ]
  },
  {
   "cell_type": "markdown",
   "id": "e008e8a8",
   "metadata": {},
   "source": [
    "### Use Case with PARTITION BY\n",
    "When you need to maintain continuous ranking within specific categories, the PARTITION BY clause can be used with the DENSE_RANK() function. For instance:"
   ]
  },
  {
   "cell_type": "raw",
   "id": "0e28513d",
   "metadata": {},
   "source": [
    "SELECT\n",
    "    category,\n",
    "    product_name,\n",
    "    unit_price,\n",
    "    DENSE_RANK() OVER (PARTITION BY category ORDER BY unit_price) AS category_rank\n",
    "FROM products;"
   ]
  },
  {
   "cell_type": "markdown",
   "id": "09a2bc3c",
   "metadata": {},
   "source": [
    "Adding PARTITION BY allows you to have continuous ranks for products within each individual category."
   ]
  },
  {
   "cell_type": "markdown",
   "id": "4bff7f96",
   "metadata": {},
   "source": [
    "## <span style=\"color: blue;\">NTILE(n)\n",
    "\n",
    "The `NTILE(n)` window function divides a result set into roughly \"n\" parts, assigning a tile number to each row. It's effective for creating data segments or quantiles."
   ]
  },
  {
   "cell_type": "raw",
   "id": "4f0e404d",
   "metadata": {},
   "source": [
    "SELECT\n",
    "    student_name,\n",
    "    test_score,\n",
    "    NTILE(4) OVER (ORDER BY test_score DESC) AS score_quantile\n",
    "FROM test_results;"
   ]
  },
  {
   "cell_type": "markdown",
   "id": "9d6e5aa1",
   "metadata": {},
   "source": [
    "__Use Case and Benefit__\n",
    "\n",
    "When assessing student performance, NTILE(4) helps categorize students into quartiles based on their test scores. This aids in identifying top performers and understanding score distribution."
   ]
  },
  {
   "cell_type": "markdown",
   "id": "c42073c1",
   "metadata": {},
   "source": [
    "### Use Case with PARTITION BY\n",
    "If you want to calculate quantiles within specific groups, the PARTITION BY clause can be added to the NTILE() function. For example:"
   ]
  },
  {
   "cell_type": "raw",
   "id": "e8562d7a",
   "metadata": {},
   "source": [
    "SELECT\n",
    "    department,\n",
    "    employee_name,\n",
    "    sales_amount,\n",
    "    NTILE(5) OVER (PARTITION BY department ORDER BY sales_amount) AS sales_quantile\n",
    "FROM sales_team;"
   ]
  },
  {
   "cell_type": "markdown",
   "id": "0641d3d5",
   "metadata": {},
   "source": [
    "By using PARTITION BY, you can determine sales quantiles within individual departments, offering insights into sales distribution within each department."
   ]
  },
  {
   "cell_type": "markdown",
   "id": "64887d47",
   "metadata": {},
   "source": [
    "# <span style=\"color: red;\"> ✯✯✯✯✯✯✯✯✯✯✯✯✯✯✯✯✯✯✯✯✯✯✯✯✯✯✯✯✯✯✯✯✯✯✯✯✯✯✯✯✯✯✯✯"
   ]
  },
  {
   "cell_type": "markdown",
   "id": "6d7dc8d8",
   "metadata": {},
   "source": [
    "# 7. Subquery, CTE, Temporary tables, Views"
   ]
  },
  {
   "cell_type": "markdown",
   "id": "4ff3dab2",
   "metadata": {},
   "source": [
    "# <span style=\"color: blue;\"> Subquery (Nested Query)\n",
    "\n",
    "A subquery, also known as a nested query or inner query, is a SQL query embedded within another query. It's used to retrieve data that will be used as a condition or value within the main query."
   ]
  },
  {
   "cell_type": "markdown",
   "id": "56f4deee",
   "metadata": {},
   "source": [
    "### 1. Subquery in SELECT Clause (Scalar Subquery)\n",
    "A subquery in the SELECT clause retrieves a single value that is displayed as a column in the result set."
   ]
  },
  {
   "cell_type": "raw",
   "id": "c4a0daab",
   "metadata": {},
   "source": [
    "SELECT employee_name, (SELECT MAX(salary) FROM salaries WHERE emp_id = employees.emp_id) AS max_salary\n",
    "FROM employees;"
   ]
  },
  {
   "cell_type": "markdown",
   "id": "4537d926",
   "metadata": {},
   "source": [
    "### 2. Subquery in FROM Clause (Derived Table)\n",
    "A subquery in the FROM clause creates a temporary table (derived table) that can be used in the main query."
   ]
  },
  {
   "cell_type": "raw",
   "id": "28a98550",
   "metadata": {},
   "source": [
    "SELECT department_name, avg_salary\n",
    "FROM (SELECT department_id, AVG(salary) AS avg_salary FROM employees GROUP BY department_id) AS department_avg;"
   ]
  },
  {
   "cell_type": "markdown",
   "id": "48a8fc66",
   "metadata": {},
   "source": [
    "### 3. Subquery in WHERE Clause (Correlated Subquery)\n",
    "A correlated subquery in the WHERE clause uses values from the outer query to filter results in the subquery."
   ]
  },
  {
   "cell_type": "raw",
   "id": "13c0b086",
   "metadata": {},
   "source": [
    "SELECT product_name\n",
    "FROM products\n",
    "WHERE price > (SELECT AVG(price) FROM products WHERE category = products.category);"
   ]
  },
  {
   "cell_type": "markdown",
   "id": "31138e9d",
   "metadata": {},
   "source": [
    "### 4. Subquery in HAVING Clause\n",
    "A subquery in the HAVING clause is used to filter grouped results based on aggregate functions."
   ]
  },
  {
   "cell_type": "raw",
   "id": "87a8952b",
   "metadata": {},
   "source": [
    "SELECT department_name, COUNT(*) AS employee_count\n",
    "FROM employees\n",
    "GROUP BY department_name\n",
    "HAVING COUNT(*) > (SELECT AVG(employee_count) FROM (SELECT department_id, COUNT(*) AS employee_count FROM employees GROUP BY department_id) AS dept_avg);"
   ]
  },
  {
   "cell_type": "markdown",
   "id": "d5cee399",
   "metadata": {},
   "source": [
    "### 5. Subquery in INSERT Statement\n",
    "A subquery in an INSERT statement allows you to insert data into a table from the result of another query."
   ]
  },
  {
   "cell_type": "raw",
   "id": "bd4f553a",
   "metadata": {},
   "source": [
    "INSERT INTO new_employees (employee_id, first_name, last_name)\n",
    "SELECT employee_id, first_name, last_name\n",
    "FROM old_employees\n",
    "WHERE hire_date > '2022-01-01';"
   ]
  },
  {
   "cell_type": "markdown",
   "id": "a6a85a55",
   "metadata": {},
   "source": [
    "## <span style=\"color: blue;\">Common Table Expression (CTE)\n",
    "A Common Table Expression (CTE) is a named temporary result set that you can reference within a SELECT, INSERT, UPDATE, or DELETE statement. It's defined using the WITH keyword and is useful for creating more readable and modular SQL queries."
   ]
  },
  {
   "cell_type": "raw",
   "id": "d0fa96cd",
   "metadata": {},
   "source": [
    "WITH HighSalaryEmployees AS (\n",
    "    SELECT employee_id, first_name, last_name, salary\n",
    "    FROM employees\n",
    "    WHERE salary > 50000\n",
    ")\n",
    "SELECT * FROM HighSalaryEmployees;"
   ]
  },
  {
   "cell_type": "markdown",
   "id": "2d15e46a",
   "metadata": {},
   "source": [
    "## <span style=\"color: blue;\">Temporary Tables (Local and Global)\n",
    "Temporary tables are tables that exist only for the duration of a database session or the duration of a query, depending on whether they are local or global. They are prefixed with a single # for local and ## for global temporary tables."
   ]
  },
  {
   "cell_type": "raw",
   "id": "3eff514f",
   "metadata": {},
   "source": [
    "CREATE TABLE #TempOrders (\n",
    "    order_id INT PRIMARY KEY,\n",
    "    order_date DATE\n",
    ");"
   ]
  },
  {
   "cell_type": "markdown",
   "id": "1857c8d7",
   "metadata": {},
   "source": [
    "## <span style=\"color: blue;\">Views\n",
    "A view is a virtual table generated from the result of a SELECT query. It doesn't store data itself but provides a way to present data from one or more tables in a structured manner. Views can be queried like regular tables."
   ]
  },
  {
   "cell_type": "code",
   "execution_count": null,
   "id": "211c6fb0",
   "metadata": {},
   "outputs": [],
   "source": [
    "CREATE VIEW EmployeeDetails AS\n",
    "SELECT employee_id, first_name, last_name, hire_date\n",
    "FROM employees;"
   ]
  },
  {
   "cell_type": "markdown",
   "id": "9530840d",
   "metadata": {},
   "source": [
    "## Use Cases of Views\n",
    "\n",
    "Views are versatile database objects with several valuable use cases:\n",
    "\n",
    "1. **Simplification:** Views simplify complex queries by presenting data in a more user-friendly format, abstracting underlying table structures.\n",
    "\n",
    "2. **Security:** Views can be used to restrict access to certain columns or rows of a table, providing a security layer.\n",
    "\n",
    "3. **Reusability:** They allow you to create reusable query components that can be used across different applications or reports.\n",
    "\n",
    "Views are a powerful tool in database management, offering improved query readability, enhanced security, and code reusability."
   ]
  },
  {
   "cell_type": "code",
   "execution_count": null,
   "id": "0a63dd50",
   "metadata": {},
   "outputs": [],
   "source": []
  },
  {
   "cell_type": "code",
   "execution_count": null,
   "id": "77adbc68",
   "metadata": {},
   "outputs": [],
   "source": []
  },
  {
   "cell_type": "code",
   "execution_count": null,
   "id": "c1f6945e",
   "metadata": {},
   "outputs": [],
   "source": []
  },
  {
   "cell_type": "code",
   "execution_count": null,
   "id": "5d69752d",
   "metadata": {},
   "outputs": [],
   "source": [
    "<span style=\"color: blue;\">"
   ]
  },
  {
   "cell_type": "code",
   "execution_count": null,
   "id": "3a4d0dfa",
   "metadata": {},
   "outputs": [],
   "source": []
  },
  {
   "cell_type": "code",
   "execution_count": null,
   "id": "b1731888",
   "metadata": {},
   "outputs": [],
   "source": [
    "<span style=\"color: blue;\">"
   ]
  },
  {
   "cell_type": "code",
   "execution_count": null,
   "id": "dc8513b5",
   "metadata": {},
   "outputs": [],
   "source": [
    "<span style=\"color: blue;\">"
   ]
  }
 ],
 "metadata": {
  "kernelspec": {
   "display_name": "Python 3 (ipykernel)",
   "language": "python",
   "name": "python3"
  },
  "language_info": {
   "codemirror_mode": {
    "name": "ipython",
    "version": 3
   },
   "file_extension": ".py",
   "mimetype": "text/x-python",
   "name": "python",
   "nbconvert_exporter": "python",
   "pygments_lexer": "ipython3",
   "version": "3.9.17"
  }
 },
 "nbformat": 4,
 "nbformat_minor": 5
}
