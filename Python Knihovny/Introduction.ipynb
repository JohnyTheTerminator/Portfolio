{
 "cells": [
  {
   "cell_type": "markdown",
   "id": "1b5d32fe",
   "metadata": {},
   "source": [
    "# NUMERICAL OPERATIONS"
   ]
  },
  {
   "cell_type": "markdown",
   "id": "4c9f8034",
   "metadata": {},
   "source": [
    "## Addition (+)"
   ]
  },
  {
   "cell_type": "code",
   "execution_count": null,
   "id": "b0c6ab64",
   "metadata": {},
   "outputs": [],
   "source": [
    "a = 5\n",
    "b = 10\n",
    "result = a + b\n",
    "print(result)  \n"
   ]
  },
  {
   "cell_type": "markdown",
   "id": "67df2e0c",
   "metadata": {},
   "source": [
    "## Subtraction (-)"
   ]
  },
  {
   "cell_type": "code",
   "execution_count": null,
   "id": "19236da1",
   "metadata": {},
   "outputs": [],
   "source": [
    "a = 15\n",
    "b = 7\n",
    "result = a - b\n",
    "print(result)  \n"
   ]
  },
  {
   "cell_type": "markdown",
   "id": "53363b7d",
   "metadata": {},
   "source": [
    "## Multiplication (*)"
   ]
  },
  {
   "cell_type": "code",
   "execution_count": null,
   "id": "995d3cae",
   "metadata": {},
   "outputs": [],
   "source": [
    "a = 6\n",
    "b = 4\n",
    "result = a * b\n",
    "print(result)  "
   ]
  },
  {
   "cell_type": "markdown",
   "id": "84333463",
   "metadata": {},
   "source": [
    "## Division (/)"
   ]
  },
  {
   "cell_type": "code",
   "execution_count": null,
   "id": "529fe587",
   "metadata": {},
   "outputs": [],
   "source": [
    "a = 20\n",
    "b = 5\n",
    "result = a / b\n",
    "print(result) "
   ]
  },
  {
   "cell_type": "markdown",
   "id": "06dd27a6",
   "metadata": {},
   "source": [
    "## Floor Division (//)"
   ]
  },
  {
   "cell_type": "code",
   "execution_count": null,
   "id": "3357e873",
   "metadata": {},
   "outputs": [],
   "source": [
    "a = 20\n",
    "b = 3\n",
    "result = a // b\n",
    "print(result) "
   ]
  },
  {
   "cell_type": "markdown",
   "id": "885147ce",
   "metadata": {},
   "source": [
    "## Modulus (%)\n"
   ]
  },
  {
   "cell_type": "code",
   "execution_count": null,
   "id": "4a36b964",
   "metadata": {},
   "outputs": [],
   "source": [
    "a = 17\n",
    "b = 4\n",
    "result = a % b\n",
    "print(result)"
   ]
  },
  {
   "cell_type": "markdown",
   "id": "02af4a04",
   "metadata": {},
   "source": [
    "## Exponentiation (**)"
   ]
  },
  {
   "cell_type": "code",
   "execution_count": null,
   "id": "70bee244",
   "metadata": {},
   "outputs": [],
   "source": [
    "a = 2\n",
    "b = 5\n",
    "result = a ** b\n",
    "print(result)"
   ]
  },
  {
   "cell_type": "markdown",
   "id": "d7ab012d",
   "metadata": {},
   "source": [
    "## Absolute value (abs())"
   ]
  },
  {
   "cell_type": "code",
   "execution_count": null,
   "id": "651b05bf",
   "metadata": {},
   "outputs": [],
   "source": [
    "num = -10\n",
    "result = abs(num)\n",
    "print(result)"
   ]
  },
  {
   "cell_type": "markdown",
   "id": "a6d371c2",
   "metadata": {},
   "source": [
    "## Round (round())"
   ]
  },
  {
   "cell_type": "code",
   "execution_count": null,
   "id": "8389b6d3",
   "metadata": {},
   "outputs": [],
   "source": [
    "num = 3.75\n",
    "result = round(num)\n",
    "print(result)"
   ]
  },
  {
   "cell_type": "markdown",
   "id": "52d1964e",
   "metadata": {},
   "source": [
    "## Minimum (min()) and Maximum (max())"
   ]
  },
  {
   "cell_type": "code",
   "execution_count": null,
   "id": "768156f6",
   "metadata": {},
   "outputs": [],
   "source": [
    "numbers = [5, 2, 9, 1, 7]\n",
    "min_val = min(numbers)\n",
    "max_val = max(numbers)\n",
    "print(min_val)  # Output: 1\n",
    "print(max_val)  "
   ]
  },
  {
   "cell_type": "markdown",
   "id": "d2eb42ad",
   "metadata": {},
   "source": [
    "## Sum (sum())"
   ]
  },
  {
   "cell_type": "code",
   "execution_count": null,
   "id": "5655d30e",
   "metadata": {},
   "outputs": [],
   "source": [
    "numbers = [1, 2, 3, 4, 5]\n",
    "total = sum(numbers)\n",
    "print(total)"
   ]
  },
  {
   "cell_type": "markdown",
   "id": "22a6cd36",
   "metadata": {},
   "source": [
    "## Concatenation of strings"
   ]
  },
  {
   "cell_type": "code",
   "execution_count": null,
   "id": "516a4f0c",
   "metadata": {},
   "outputs": [],
   "source": [
    "text1 = \"Hello, \"\n",
    "text2 = \"World!\"\n",
    "result = text1 + text2\n",
    "print(result) "
   ]
  },
  {
   "cell_type": "markdown",
   "id": "284d051c",
   "metadata": {},
   "source": [
    "# ⊂⊃⊂⊃⊂⊃⊂⊃⊂⊃⊂⊃⊂⊃⊂⊃⊂⊃⊂⊃⊂⊃⊂⊃⊂⊃⊂⊃⊂⊃⊂⊃⊂⊃⊂⊃⊂⊃⊂⊃⊂⊃⊂⊃⊂⊃"
   ]
  },
  {
   "cell_type": "markdown",
   "id": "338b586d",
   "metadata": {},
   "source": [
    "# Data Structures"
   ]
  },
  {
   "cell_type": "markdown",
   "id": "485d6c42",
   "metadata": {},
   "source": [
    "## String\n",
    "\n",
    "#### A string is a sequence of characters enclosed within single (' ') or double (\" \") quotes."
   ]
  },
  {
   "cell_type": "code",
   "execution_count": null,
   "id": "e20645a3",
   "metadata": {},
   "outputs": [],
   "source": [
    "name = \"John Doe\"\n",
    "print(name) # Output: \"John Doe\""
   ]
  },
  {
   "cell_type": "markdown",
   "id": "824ccbbb",
   "metadata": {},
   "source": [
    "# List\n",
    "#### A list is an ordered and mutable collection of elements, which can be of different data types."
   ]
  },
  {
   "cell_type": "code",
   "execution_count": null,
   "id": "8112d86e",
   "metadata": {},
   "outputs": [],
   "source": [
    "# Example of a list\n",
    "fruits = [\"apple\", \"banana\", \"orange\", \"grape\"]\n",
    "print(fruits)  # Output: ['apple', 'banana', 'orange', 'grape']\n",
    "\n",
    "# Accessing elements by index\n",
    "print(fruits[0])  # Output: 'apple'\n",
    "\n",
    "# Adding elements to the list\n",
    "fruits.append(\"kiwi\")\n",
    "print(fruits)  # Output: ['apple', 'banana', 'orange', 'grape', 'kiwi']\n",
    "\n",
    "# Modifying elements in the list\n",
    "fruits[1] = \"pear\"\n",
    "print(fruits)  # Output: ['apple', 'pear', 'orange', 'grape', 'kiwi']"
   ]
  },
  {
   "cell_type": "markdown",
   "id": "a454b1e6",
   "metadata": {},
   "source": [
    "# Tuple\n",
    "#### A tuple is an ordered and immutable collection of elements, which can be of different data types."
   ]
  },
  {
   "cell_type": "code",
   "execution_count": null,
   "id": "245eadd2",
   "metadata": {},
   "outputs": [],
   "source": [
    "# Example of a tuple\n",
    "coordinates = (10, 20)\n",
    "print(coordinates)  # Output: (10, 20)\n",
    "\n",
    "# Accessing elements by index\n",
    "print(coordinates[0])  # Output: 10\n",
    "\n",
    "# Tuples are immutable (can't be modified after creation)\n",
    "# The following line will raise an error\n",
    "# coordinates[0] = 5"
   ]
  },
  {
   "cell_type": "markdown",
   "id": "edab3f27",
   "metadata": {},
   "source": [
    "# Dicitonary\n",
    "#### A dictionary is an unordered collection of key-value pairs."
   ]
  },
  {
   "cell_type": "code",
   "execution_count": null,
   "id": "cdd16272",
   "metadata": {},
   "outputs": [],
   "source": [
    "# Example of a dictionary\n",
    "student = {\n",
    "    \"name\": \"John\",\n",
    "    \"age\": 20,\n",
    "    \"major\": \"Computer Science\",\n",
    "    \"gpa\": 3.5\n",
    "}\n",
    "print(student)  # Output: {'name': 'John', 'age': 20, 'major': 'Computer Science', 'gpa': 3.5}\n",
    "\n",
    "# Accessing values using keys\n",
    "print(student[\"name\"])  # Output: 'John'\n",
    "\n",
    "# Adding a new key-value pair\n",
    "student[\"is_enrolled\"] = True\n",
    "print(student)  # Output: {'name': 'John', 'age': 20, 'major': 'Computer Science', 'gpa': 3.5, 'is_enrolled': True}\n",
    "\n",
    "# Modifying values using keys\n",
    "student[\"gpa\"] = 3.8\n",
    "print(student)  # Output: {'name': 'John', 'age': 20, 'major': 'Computer Science', 'gpa': 3.8, 'is_enrolled': True}"
   ]
  },
  {
   "cell_type": "markdown",
   "id": "682e4988",
   "metadata": {},
   "source": [
    "# Set\n",
    "#### A set is an unordered collection of unique elements."
   ]
  },
  {
   "cell_type": "code",
   "execution_count": null,
   "id": "fe0f01ed",
   "metadata": {},
   "outputs": [],
   "source": [
    "# Example of a set\n",
    "numbers_set = {1, 2, 3, 4, 5}\n",
    "print(numbers_set)  # Output: {1, 2, 3, 4, 5}\n",
    "\n",
    "# Sets automatically remove duplicate elements\n",
    "duplicate_set = {1, 2, 2, 3, 3, 3}\n",
    "print(duplicate_set)  # Output: {1, 2, 3}"
   ]
  },
  {
   "cell_type": "markdown",
   "id": "8a4cc55f",
   "metadata": {},
   "source": [
    "# ⊂⊃⊂⊃⊂⊃⊂⊃⊂⊃⊂⊃⊂⊃⊂⊃⊂⊃⊂⊃⊂⊃⊂⊃⊂⊃⊂⊃⊂⊃⊂⊃⊂⊃⊂⊃⊂⊃⊂⊃⊂⊃⊂⊃⊂⊃"
   ]
  },
  {
   "cell_type": "markdown",
   "id": "a1b5d534",
   "metadata": {},
   "source": [
    "# LOGICAL OPERATORS"
   ]
  },
  {
   "cell_type": "markdown",
   "id": "8adf4f51",
   "metadata": {},
   "source": [
    "## IF & ELSE"
   ]
  },
  {
   "cell_type": "code",
   "execution_count": null,
   "id": "8bfa6d38",
   "metadata": {},
   "outputs": [],
   "source": [
    "age = 20\n",
    "\n",
    "if age >= 18:\n",
    "    print(\"You are an adult.\")\n",
    "else:\n",
    "    print(\"You are a minor.\")"
   ]
  },
  {
   "cell_type": "markdown",
   "id": "0c41fa0f",
   "metadata": {},
   "source": [
    "## IF & ELIF & ELSE"
   ]
  },
  {
   "cell_type": "code",
   "execution_count": null,
   "id": "9da7ba8c",
   "metadata": {},
   "outputs": [],
   "source": [
    "score = 85\n",
    "\n",
    "if score >= 90:\n",
    "    print(\"A grade\")\n",
    "elif score >= 80:\n",
    "    print(\"B grade\")\n",
    "elif score >= 70:\n",
    "    print(\"C grade\")\n",
    "elif score >= 60:\n",
    "    print(\"D grade\")\n",
    "else:\n",
    "    print(\"You failed.\")"
   ]
  },
  {
   "cell_type": "markdown",
   "id": "01d3ad3b",
   "metadata": {},
   "source": [
    "## Equality Operator (==)"
   ]
  },
  {
   "cell_type": "code",
   "execution_count": null,
   "id": "2b5712c3",
   "metadata": {},
   "outputs": [],
   "source": [
    "a = 5\n",
    "b = 10\n",
    "\n",
    "result = a == b\n",
    "print(result)  # Output: False\n",
    "\n",
    "c = 15\n",
    "d = 15\n",
    "\n",
    "result = c == d\n",
    "print(result) # Output: True"
   ]
  },
  {
   "cell_type": "markdown",
   "id": "78cd71dc",
   "metadata": {},
   "source": [
    "## Inequality Operator (!=)"
   ]
  },
  {
   "cell_type": "code",
   "execution_count": null,
   "id": "fe70e919",
   "metadata": {},
   "outputs": [],
   "source": [
    "x = 20\n",
    "y = 25\n",
    "\n",
    "result = x != y\n",
    "print(result)  # Output: True\n",
    "\n",
    "m = 7\n",
    "n = 7\n",
    "\n",
    "result = m != n\n",
    "print(result)  # Output: False"
   ]
  },
  {
   "cell_type": "markdown",
   "id": "76282ae1",
   "metadata": {},
   "source": [
    "## Logical AND "
   ]
  },
  {
   "cell_type": "code",
   "execution_count": null,
   "id": "d43df11e",
   "metadata": {},
   "outputs": [],
   "source": [
    "age = 25\n",
    "is_student = True\n",
    "\n",
    "result = age >= 18 and is_student\n",
    "print(result)  # Output: True\n",
    "\n",
    "is_teacher = False\n",
    "result = age >= 18 and is_teacher\n",
    "print(result)  # Output: False"
   ]
  },
  {
   "cell_type": "markdown",
   "id": "748eee34",
   "metadata": {},
   "source": [
    "## Logical OR "
   ]
  },
  {
   "cell_type": "code",
   "execution_count": null,
   "id": "b2c2db8a",
   "metadata": {},
   "outputs": [],
   "source": [
    "is_weekend = False\n",
    "is_holiday = True\n",
    "\n",
    "result = is_weekend or is_holiday\n",
    "print(result)  # Output: True\n",
    "\n",
    "is_weekend = True\n",
    "result = is_weekend or is_holiday\n",
    "print(result)  # Output: True"
   ]
  },
  {
   "cell_type": "markdown",
   "id": "c6a55993",
   "metadata": {},
   "source": [
    "## Logical NOT "
   ]
  },
  {
   "cell_type": "code",
   "execution_count": null,
   "id": "637b0a3f",
   "metadata": {},
   "outputs": [],
   "source": [
    "is_raining = True\n",
    "\n",
    "result = not is_raining\n",
    "print(result)  # Output: False\n",
    "\n",
    "is_sunny = False\n",
    "result = not is_sunny\n",
    "print(result)  # Output: True"
   ]
  },
  {
   "cell_type": "markdown",
   "id": "857fb2f3",
   "metadata": {},
   "source": [
    "# ⊂⊃⊂⊃⊂⊃⊂⊃⊂⊃⊂⊃⊂⊃⊂⊃⊂⊃⊂⊃⊂⊃⊂⊃⊂⊃⊂⊃⊂⊃⊂⊃⊂⊃⊂⊃⊂⊃⊂⊃⊂⊃⊂⊃⊂⊃"
   ]
  },
  {
   "cell_type": "markdown",
   "id": "211842d2",
   "metadata": {},
   "source": [
    "# LOOPS"
   ]
  },
  {
   "cell_type": "markdown",
   "id": "f7a51b9a",
   "metadata": {},
   "source": [
    "## For Loop:\n",
    "### The \"for\" loop is used to iterate over a sequence (like a list, tuple, string, or dictionary) and execute a block of code for each element in the sequence."
   ]
  },
  {
   "cell_type": "code",
   "execution_count": null,
   "id": "23d4dd18",
   "metadata": {},
   "outputs": [],
   "source": [
    "fruits = [\"apple\", \"banana\", \"orange\", \"melon\"]\n",
    "for fruit in fruits:\n",
    "    print(fruit)\n",
    "# Output:\n",
    "# apple\n",
    "# banana\n",
    "# orange\n",
    "# melon"
   ]
  },
  {
   "cell_type": "markdown",
   "id": "4b543be7",
   "metadata": {},
   "source": [
    "## While Loop:\n",
    "### The \"while\" loop is used to execute a block of code repeatedly as long as a specified condition is true. It is suitable when you do not know the number of iterations beforehand"
   ]
  },
  {
   "cell_type": "code",
   "execution_count": null,
   "id": "267e3bdd",
   "metadata": {},
   "outputs": [],
   "source": [
    "x = 0\n",
    "while x < 5:\n",
    "    print(count)\n",
    "    x += 1\n",
    "# Output:\n",
    "# 0\n",
    "# 1\n",
    "# 2\n",
    "# 3\n",
    "# 4"
   ]
  },
  {
   "cell_type": "markdown",
   "id": "5d7b9794",
   "metadata": {},
   "source": [
    "## Nested Loops:\n",
    "### You can also have loops within loops, known as nested loops. This allows you to perform more complex iterations"
   ]
  },
  {
   "cell_type": "code",
   "execution_count": null,
   "id": "362bea08",
   "metadata": {},
   "outputs": [],
   "source": [
    "# for i in range(3):\n",
    "    for j in range(2):\n",
    "        print(f\"({i}, {j})\")\n",
    "# Output:\n",
    "# (0, 0)\n",
    "# (0, 1)\n",
    "# (1, 0)\n",
    "# (1, 1)\n",
    "# (2, 0)\n",
    "# (2, 1)"
   ]
  },
  {
   "cell_type": "markdown",
   "id": "c7dfd2e9",
   "metadata": {},
   "source": [
    "## Loop Control Statements:\n",
    "### Inside loops, you can use loop control statements to modify the loop's behavior:\n",
    "### \"break\": Terminates the loop prematurely.\n",
    "### \"continue\": Skips the current iteration and continues with the next iteration."
   ]
  },
  {
   "cell_type": "code",
   "execution_count": null,
   "id": "f73cb0ee",
   "metadata": {},
   "outputs": [],
   "source": [
    "# Example of break statement\n",
    "for i in range(5):\n",
    "    if i == 3:\n",
    "        break\n",
    "    print(i)\n",
    "# Output:\n",
    "# 0\n",
    "# 1\n",
    "# 2\n",
    "\n",
    "# Example of continue statement\n",
    "for i in range(5):\n",
    "    if i == 2:\n",
    "        continue\n",
    "    print(i)\n",
    "# Output:\n",
    "# 0\n",
    "# 1\n",
    "# 3\n",
    "# 4"
   ]
  },
  {
   "cell_type": "markdown",
   "id": "701fe396",
   "metadata": {},
   "source": [
    "## In range"
   ]
  },
  {
   "cell_type": "code",
   "execution_count": null,
   "id": "1671dfd7",
   "metadata": {},
   "outputs": [],
   "source": [
    "for i in range (0,10):\n",
    "\n",
    "    print(i)\n",
    "    \n",
    "# output 0,1,2,3,4....   "
   ]
  },
  {
   "cell_type": "markdown",
   "id": "87b5a08b",
   "metadata": {},
   "source": [
    "# ⊂⊃⊂⊃⊂⊃⊂⊃⊂⊃⊂⊃⊂⊃⊂⊃⊂⊃⊂⊃⊂⊃⊂⊃⊂⊃⊂⊃⊂⊃⊂⊃⊂⊃⊂⊃⊂⊃⊂⊃⊂⊃⊂⊃⊂⊃"
   ]
  },
  {
   "cell_type": "markdown",
   "id": "22537a6c",
   "metadata": {},
   "source": [
    "# FUNCTIONS"
   ]
  },
  {
   "cell_type": "markdown",
   "id": "e4e74d00",
   "metadata": {},
   "source": [
    "## Simple function"
   ]
  },
  {
   "cell_type": "code",
   "execution_count": 7,
   "id": "b0e07fdf",
   "metadata": {},
   "outputs": [],
   "source": [
    "def greet():\n",
    "    print(\"Hello, welcome!\")\n",
    "    \n",
    "greet()  # calling the function  "
   ]
  },
  {
   "cell_type": "markdown",
   "id": "3d8522be",
   "metadata": {},
   "source": [
    "## Function with variable "
   ]
  },
  {
   "cell_type": "code",
   "execution_count": null,
   "id": "bddd99bf",
   "metadata": {},
   "outputs": [],
   "source": [
    "def greet_user(name):\n",
    "    print(f\"Hello, {name}!\")\n",
    "\n",
    "greet_user(\"John\")     # can´t have it like greet_user = \"John\" because str. is not callable\n",
    "# Output: \"Hello, John!\"\n",
    "\n",
    "greet_user()"
   ]
  },
  {
   "cell_type": "markdown",
   "id": "02596074",
   "metadata": {},
   "source": [
    "## Return statement"
   ]
  },
  {
   "cell_type": "code",
   "execution_count": null,
   "id": "cf4b0479",
   "metadata": {},
   "outputs": [],
   "source": [
    "def add(a, b):\n",
    "    result = a + b\n",
    "    return result\n",
    "\n",
    "sum_result = add(5, 3)\n",
    "print(sum_result)"
   ]
  },
  {
   "cell_type": "markdown",
   "id": "1e6bd836",
   "metadata": {},
   "source": [
    "# CLASSES"
   ]
  },
  {
   "cell_type": "code",
   "execution_count": null,
   "id": "6b3b9327",
   "metadata": {},
   "outputs": [],
   "source": [
    "class Dog:\n",
    "    def __init__(self, name, age):\n",
    "        self.name = name\n",
    "        self.age = age\n",
    "\n",
    "    def bark(self):\n",
    "        print(\"Woof!\")\n",
    "\n",
    "# Creating objects of the Dog class\n",
    "dog1 = Dog(\"Buddy\", 3)\n",
    "dog2 = Dog(\"Max\", 5)\n",
    "\n",
    "# Accessing object attributes\n",
    "print(dog1.name)  # Output: \"Buddy\"\n",
    "print(dog2.age)   # Output: 5\n",
    "\n",
    "# Calling object methods\n",
    "dog1.bark()  # Output: \"Woof!\"\n",
    "dog2.bark()  # Output: \"Woof!\""
   ]
  },
  {
   "cell_type": "code",
   "execution_count": null,
   "id": "5e5543ae",
   "metadata": {},
   "outputs": [],
   "source": [
    "class Polygon:\n",
    "    def __init__(self, sides, name):\n",
    "        self.sides = sides\n",
    "        self.name = name\n",
    "        \n",
    "square = Polygon(4, \"Square\")\n",
    "triangle = Polygon(3, \"Triangle\")\n",
    "\n",
    "\n",
    "print(triangle.sides)\n",
    "print(triangle.name)"
   ]
  },
  {
   "cell_type": "markdown",
   "id": "7c7afce1",
   "metadata": {},
   "source": [
    "## Inheritance\n",
    "\n",
    "### Inheritance allows a class to inherit attributes and methods from another class. This promotes code reuse and allows you to create subclasses with additional features."
   ]
  },
  {
   "cell_type": "code",
   "execution_count": null,
   "id": "df8da74b",
   "metadata": {},
   "outputs": [],
   "source": [
    "class Animal:\n",
    "    def __init__(self, species):\n",
    "        self.species = species\n",
    "\n",
    "    def make_sound(self):\n",
    "        pass  # A placeholder method\n",
    "\n",
    "class Cat(Animal):\n",
    "    def __init__(self, name, age):\n",
    "        super().__init__(\"Cat\")\n",
    "        self.name = name\n",
    "        self.age = age\n",
    "\n",
    "    def make_sound(self):\n",
    "        print(\"Meow!\")\n",
    "\n",
    "# Creating objects of the Cat class\n",
    "cat1 = Cat(\"Whiskers\", 2)\n",
    "cat2 = Cat(\"Fluffy\", 4)\n",
    "\n",
    "# Accessing object attributes\n",
    "print(cat1.name)     # Output: \"Whiskers\"\n",
    "print(cat2.species)  # Output: \"Cat\"\n",
    "\n",
    "# Calling object methods\n",
    "cat1.make_sound()  # Output: \"Meow!\"\n",
    "cat2.make_sound()  # Output: \"Meow!\""
   ]
  },
  {
   "cell_type": "markdown",
   "id": "f3f4565e",
   "metadata": {},
   "source": [
    "## Using Properties:\n",
    "### Properties allow you to define getter and setter methods for class attributes, providing control over attribute access and modification."
   ]
  },
  {
   "cell_type": "code",
   "execution_count": null,
   "id": "c2d67ad0",
   "metadata": {},
   "outputs": [],
   "source": [
    "class Circle:\n",
    "    def __init__(self, radius):\n",
    "        self._radius = radius\n",
    "\n",
    "    @property\n",
    "    def radius(self):\n",
    "        return self._radius\n",
    "\n",
    "    @radius.setter\n",
    "    def radius(self, value):\n",
    "        if value >= 0:\n",
    "            self._radius = value\n",
    "        else:\n",
    "            raise ValueError(\"Radius cannot be negative.\")\n",
    "\n",
    "    def area(self):\n",
    "        return 3.14 * self._radius ** 2\n",
    "\n",
    "# Creating an object of the Circle class\n",
    "circle = Circle(5)\n",
    "\n",
    "# Accessing the radius attribute using the property\n",
    "print(circle.radius)  # Output: 5\n",
    "\n",
    "# Using the setter to modify the radius\n",
    "circle.radius = 7\n",
    "print(circle.radius)  # Output: 7\n",
    "\n",
    "# Using the area method\n",
    "print(circle.area())  # Output: 153.86"
   ]
  }
 ],
 "metadata": {
  "kernelspec": {
   "display_name": "Python 3 (ipykernel)",
   "language": "python",
   "name": "python3"
  },
  "language_info": {
   "codemirror_mode": {
    "name": "ipython",
    "version": 3
   },
   "file_extension": ".py",
   "mimetype": "text/x-python",
   "name": "python",
   "nbconvert_exporter": "python",
   "pygments_lexer": "ipython3",
   "version": "3.9.17"
  }
 },
 "nbformat": 4,
 "nbformat_minor": 5
}
