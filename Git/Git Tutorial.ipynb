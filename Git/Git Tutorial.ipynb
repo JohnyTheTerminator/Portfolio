{
 "cells": [
  {
   "cell_type": "markdown",
   "id": "f912753c",
   "metadata": {},
   "source": [
    "# <span style=\"color: green;\">Git Tutorial ( VS Code )\n"
   ]
  },
  {
   "cell_type": "markdown",
   "id": "edea1e4a",
   "metadata": {},
   "source": [
    "### Basic Commands:\n",
    "\n",
    "1. `git init`\n",
    "   - *Initialize a new Git repository.*\n",
    "\n",
    "2. `git clone <repository>`\n",
    "   - *Clone a repository into a new directory.*\n",
    "\n",
    "3. `git add <file>`\n",
    "   - *Stage changes for the next commit.*\n",
    "\n",
    "4. `git add .`\n",
    "   - *Stage all changes for the next commit.*\n",
    "\n",
    "5. `git commit -m \"Message\"`\n",
    "   - *Commit staged changes with a descriptive message.*\n",
    "\n",
    "6. `git status`\n",
    "   - *Show the status of changes as untracked, modified, or staged.*\n",
    "\n",
    "7. `git log`\n",
    "   - *Display the commit history.*\n",
    "\n",
    "8. `git diff`\n",
    "   - *Show changes between commits, commit and working tree, etc.*\n",
    "\n",
    "9. `git branch`\n",
    "   - *List existing branches.*\n",
    "\n",
    "10. `git branch <branch_name>`\n",
    "    - *Create a new branch.*\n",
    "\n",
    "11. `git checkout <branch_name>`\n",
    "    - *Switch to a different branch.*\n",
    "\n",
    "12. `git merge <branch>`\n",
    "    - *Merge changes from a different branch.*\n",
    "\n",
    "### Remote Repositories:\n",
    "\n",
    "13. `git remote`\n",
    "    - *List remote repositories.*\n",
    "\n",
    "14. `git remote add origin <repository_url>`\n",
    "    - *Add a remote repository.*\n",
    "\n",
    "15. `git push -u origin <branch>`\n",
    "    - *Push local changes to a remote repository.*\n",
    "\n",
    "16. `git pull origin <branch>`\n",
    "    - *Fetch changes from a remote repository and merge.*\n",
    "\n",
    "17. `git fetch`\n",
    "    - *Fetch changes from a remote repository.*\n",
    "\n",
    "18. `git pull`\n",
    "    - *Fetch and merge changes from a remote repository.*\n",
    "\n",
    "### Undoing Changes:\n",
    "\n",
    "19. `git reset <file>`\n",
    "    - *Unstage changes for a specific file.*\n",
    "\n",
    "20. `git reset`\n",
    "    - *Unstage all changes.*\n",
    "\n",
    "21. `git reset --hard HEAD`\n",
    "    - *Discard all changes in the working directory.*\n",
    "\n",
    "22. `git revert <commit>`\n",
    "    - *Create a new commit that undoes changes of a previous commit.*\n",
    "\n",
    "23. `git clean -fd`\n",
    "    - *Remove untracked files and directories.*\n",
    "\n",
    "### Collaboration:\n",
    "\n",
    "24. `git fetch`\n",
    "    - *Fetch changes from a remote repository.*\n",
    "\n",
    "25. `git pull`\n",
    "    - *Fetch and merge changes from a remote repository.*\n",
    "\n",
    "26. `git push`\n",
    "    - *Push local changes to a remote repository.*\n",
    "\n",
    "27. `git branch -r`\n",
    "    - *List remote branches.*\n",
    "\n",
    "28. `git branch -a`\n",
    "    - *List all branches (local and remote).*\n",
    "\n",
    "### Advanced/Complex Commands:\n",
    "\n",
    "29. `git rebase <branch>`\n",
    "    - *Reapply commits on top of another branch.*\n",
    "\n",
    "30. `git cherry-pick <commit>`\n",
    "    - *Apply changes from a specific commit to the current branch.*\n",
    "\n",
    "31. `git submodule`\n",
    "    - *Manage and update Git submodules.*\n",
    "\n",
    "32. `git bisect`\n",
    "    - *Find a commit that introduced a bug using binary search.*\n",
    "\n",
    "33. `git reflog`\n",
    "    - *Show a log of changes to Git references.*\n",
    "\n",
    "34. `git log --graph`\n",
    "    - *Display commit history in a graph.*\n",
    "\n",
    "35. `git log --oneline`\n",
    "    - *Display commit history in one line.*\n",
    "\n",
    "36. `git log --author=<author>`\n",
    "    - *Show commits by a specific author.*\n",
    "\n",
    "37. `git log --since=<date>`\n",
    "    - *Show commits since a specific date.*\n",
    "\n",
    "38. `git log --until=<date>`\n",
    "    - *Show commits until a specific date.*\n",
    "\n",
    "39. `git log --grep=<pattern>`\n",
    "    - *Search for commits with a specific commit message pattern.*\n",
    "\n",
    "40. `git stash`\n",
    "    - *Stash changes in a dirty working directory.*\n",
    "\n",
    "41. `git tag <tag_name>`\n",
    "    - *Create a lightweight tag on the current commit.*\n",
    "\n",
    "42. `git tag -a <tag_name> -m \"Message\"`\n",
    "    - *Create an annotated tag on the current commit.*\n",
    "\n",
    "43. `git show <commit>`\n",
    "    - *Show the details of a specific commit.*\n",
    "\n",
    "44. `git log --all --decorate --oneline --graph`\n",
    "    - *Display a compact and decorated commit history.*"
   ]
  },
  {
   "cell_type": "markdown",
   "id": "beb9db21",
   "metadata": {},
   "source": [
    "# Git Concepts Introduction\n",
    "\n",
    "### 1. Working Directory:\n",
    "   - The working directory is the directory on your local machine where you are making changes to your files.\n",
    "\n",
    "### 2. Staging Area (Index):\n",
    "   - The staging area is like a holding area between your working directory and your repository. It's where you can stage changes before committing them.\n",
    "\n",
    "### 3. Repository (Local Repository):\n",
    "   - The repository is the database where Git stores your project's version history. It's located in the hidden `.git` directory in your project.\n",
    "\n",
    "### 4. Commit:\n",
    "   - A commit is a snapshot of your project at a specific point in time. It includes the changes you've made and a reference to the previous commit, creating a history of your project.\n",
    "\n",
    "### 5. Branch:\n",
    "   - A branch is a parallel line of development. You can have multiple branches in your project, each representing a different line of work.\n",
    "\n",
    "### 6. HEAD:\n",
    "   - HEAD is a special pointer or reference in Git that points to the latest commit in the branch you are currently working on. It's essentially where you are in your commit history.\n",
    "\n",
    "### 7. Master/Main Branch:\n",
    "   - The default branch in Git is often named `master` or `main`. This branch is created when you initialize a new repository and is considered the main line of development.\n",
    "\n",
    "### 8. Remote Repository:\n",
    "   - A remote repository is a Git repository that is not on your local machine but hosted elsewhere, such as on GitHub, GitLab, or Bitbucket.\n",
    "\n",
    "### 9. Clone:\n",
    "   - Cloning is the process of creating a copy of a remote repository on your local machine.\n",
    "\n",
    "### 10. Fetch:\n",
    "   - Fetching is the process of updating your local repository with changes from a remote repository.\n",
    "\n",
    "### 11. Pull:\n",
    "   - Pulling is a combination of fetching changes from a remote repository and merging those changes into your local branch.\n",
    "\n",
    "### 12. Push:\n",
    "   - Pushing is the process of sending your committed changes to a remote repository.\n",
    "\n",
    "### 13. Merge:\n",
    "   - Merging combines changes from different branches, allowing you to integrate changes from one branch into another.\n",
    "\n",
    "### 14. Pull Request (PR):\n",
    "   - In platforms like GitHub or GitLab, a pull request is a way to propose and discuss changes before merging them into the main branch."
   ]
  },
  {
   "cell_type": "markdown",
   "id": "e3d7fb11",
   "metadata": {},
   "source": [
    "# <span style=\"color: green;\"> Basic Commands"
   ]
  },
  {
   "cell_type": "markdown",
   "id": "635917f7",
   "metadata": {},
   "source": [
    "## <span style=\"color: blue;\">Git init\n",
    "\n",
    " **Description:** Initializes a new Git repository.\n",
    " \n",
    " **Use Case:** You run this command in a directory to start tracking changes of files in your repository.\n",
    "\n",
    "**Code Example:** `git init`\n"
   ]
  },
  {
   "cell_type": "markdown",
   "id": "3b5cdf96",
   "metadata": {},
   "source": [
    "## <span style=\"color: blue;\">Git clone <repository>\n",
    "\n",
    "**Description:** Creates a copy of a remote repository on your local machine.\n",
    "    \n",
    "**Use Case:** Useful when you want to work on an existing project hosted remotely.\n",
    "\n",
    " **Code Example:** `git clone https://github.com/example/repository.git`"
   ]
  },
  {
   "cell_type": "markdown",
   "id": "606cc958",
   "metadata": {},
   "source": [
    "## <span style=\"color: blue;\"> Git add <file>\n",
    "\n",
    "**Description:** Stages changes in a specific file for the next commit.\n",
    "    \n",
    " **Use Case:** Before committing, you select which changes to include in the snapshot.\n",
    "\n",
    " **Code Example:** `git add filename.txt` \n",
    "                  "
   ]
  },
  {
   "cell_type": "markdown",
   "id": "6fa6069f",
   "metadata": {},
   "source": [
    "## <span style=\"color: blue;\">Git add .\n",
    "\n",
    " **Description:** Stages all changes for the next commit.\n",
    "    \n",
    "**Use Case:** Quick way to stage all modifications in the working directory.\n",
    "\n",
    "**Code Example:** `git add .`"
   ]
  },
  {
   "cell_type": "markdown",
   "id": "bfcf5296",
   "metadata": {},
   "source": [
    "## <span style=\"color: blue;\">Git commit -m \"Message\"\n",
    "\n",
    "**Description:** Records staged changes with a descriptive commit message.\n",
    "    \n",
    "**Use Case:** Captures a snapshot of your changes with a meaningful comment.\n",
    "\n",
    "**Code Example:** `git commit -m \"Initial commit\"`"
   ]
  },
  {
   "cell_type": "markdown",
   "id": "159ad500",
   "metadata": {},
   "source": [
    "## <span style=\"color: blue;\">Git status\n",
    "\n",
    "**Description:** Shows the status of your working directory.\n",
    "    \n",
    "**Use Case:** Helps you understand which files are untracked, modified, or staged.\n",
    "\n",
    "**Code Example:** `git status`"
   ]
  },
  {
   "cell_type": "markdown",
   "id": "8177ddb4",
   "metadata": {},
   "source": [
    "## <span style=\"color: blue;\">Git log\n",
    "\n",
    "**Description:** Displays a log of commits in reverse chronological order.\n",
    "    \n",
    "**Use Case:** Provides a history of changes, useful for understanding project evolution.\n",
    "\n",
    "**Code Example:** `git log`"
   ]
  },
  {
   "cell_type": "markdown",
   "id": "97de4ebb",
   "metadata": {},
   "source": [
    "## <span style=\"color: blue;\">Git reflog\n",
    "\n",
    "**Description:** Records changes to the repository's branch references.\n",
    "    \n",
    "**Use Case:** Useful for recovering lost commits or branches.\n",
    "\n",
    "**Code Example:** `git reflog`"
   ]
  },
  {
   "cell_type": "markdown",
   "id": "5774b6c3",
   "metadata": {},
   "source": [
    "## <span style=\"color: blue;\">Git diff\n",
    "\n",
    "**Description:** Shows the differences between commits, branches, or the working directory and the last commit.\n",
    "    \n",
    "**Use Case:** Helps identify changes made to files before staging or committing.\n",
    "\n",
    "**Code Example:** `git diff` <2eb2555437f9fa9d00eebb08a3e5ec5cd8b4c32d>\n",
    "    "
   ]
  },
  {
   "cell_type": "markdown",
   "id": "1b8d9c1e",
   "metadata": {},
   "source": [
    "# <span style=\"color: green;\"> Branching and Merging"
   ]
  },
  {
   "cell_type": "markdown",
   "id": "aaeffa59",
   "metadata": {},
   "source": [
    "## <span style=\"color: blue;\">Git branch\n",
    "\n",
    "**Description:** Lists existing branches in your repository.\n",
    "    \n",
    "**Use Case:** Allows you to see available branches and which one you are currently on.\n",
    "\n",
    "**Code Example:** `git branch`"
   ]
  },
  {
   "cell_type": "markdown",
   "id": "a07c84ef",
   "metadata": {},
   "source": [
    "\n",
    "## <span style=\"color: blue;\">Git branch <branch_name>\n",
    "\n",
    "**Description:** Creates a new branch.\n",
    "    \n",
    "**Use Case:** Useful for isolating new features or bug fixes.\n",
    "\n",
    "**Code Example:** `git branch <name of new branch>`\n",
    "\n",
    "**Deleting code Example:** `git branch -d <branch name>`\n",
    "    \n",
    "**Switching code Example:** `git switch <branch name>`   \n",
    "    "
   ]
  },
  {
   "cell_type": "markdown",
   "id": "05317ea8",
   "metadata": {},
   "source": [
    "\n",
    "\n",
    "\n",
    "\n",
    "\n",
    "\n",
    "\n",
    "\n",
    "## <span style=\"color: blue;\">Git merge <branch>\n",
    "    \n",
    "**Description:** Integrates changes from one branch into another.\n",
    "    \n",
    "**Use Case:** Combines work from different branches into a single branch.\n",
    "\n",
    "**Code Example:** `git merge <branch name>`"
   ]
  },
  {
   "cell_type": "markdown",
   "id": "c9da1ba8",
   "metadata": {},
   "source": [
    "# <span style=\"color: green;\"> Remote Repositories"
   ]
  },
  {
   "cell_type": "markdown",
   "id": "f0f5937f",
   "metadata": {},
   "source": [
    "## <span style=\"color: blue;\">Git remote\n",
    "\n",
    " **Description:** Lists remote repositories associated with your local repository.\n",
    "    \n",
    "**Use Case:** Allows you to see remote repositories connected to your project.\n",
    "\n",
    "**Code Example:** `git remote -v`"
   ]
  },
  {
   "cell_type": "markdown",
   "id": "19dfa4e7",
   "metadata": {},
   "source": [
    "## <span style=\"color: blue;\">Git remote add origin <repository_url>\n",
    "\n",
    "**Description:** Adds a remote repository.\n",
    "    \n",
    "**Use Case:** Establishes a connection to a remote repository for pushing and pulling.\n",
    "\n",
    "**Code Example:** `git remote add origin https://github.com/example/repository.git`"
   ]
  },
  {
   "cell_type": "markdown",
   "id": "b956a281",
   "metadata": {},
   "source": [
    "\n",
    "\n",
    "## <span style=\"color: blue;\">Git push -u origin <branch>\n",
    "\n",
    "**Description:** Pushes local changes to a remote repository.\n",
    "    \n",
    "**Use Case:** Updates the remote repository with your local changes.\n",
    "\n",
    "**Code Example:** `git push -u origin master`"
   ]
  },
  {
   "cell_type": "markdown",
   "id": "2da8f33a",
   "metadata": {},
   "source": [
    "## <span style=\"color: blue;\">Git pull origin <branch>\n",
    "\n",
    "**Description:** Fetches changes from a remote repository and merges them into your local branch.\n",
    "    \n",
    "**Use Case:** Keeps your local branch up-to-date with changes from the remote repository.\n",
    "\n",
    "**Code Example:** `git pull origin master`"
   ]
  },
  {
   "cell_type": "markdown",
   "id": "56e0c966",
   "metadata": {},
   "source": [
    "## <span style=\"color: blue;\">Git fetch\n",
    "**Description:** Downloads changes from a remote repository.\n",
    "    \n",
    "**Use Case:** Retrieves changes from the remote repository without merging.\n",
    "\n",
    "**Code Example:** `git fetch origin`,  `git fetch origin <branch name>`"
   ]
  },
  {
   "cell_type": "markdown",
   "id": "ed6f6164",
   "metadata": {},
   "source": [
    "\n",
    "\n",
    "## <span style=\"color: blue;\">Git pull\n",
    "\n",
    "**Description:** Fetches and merges changes from a remote repository.\n",
    "    \n",
    "**Use Case:** Downloads changes from the remote repository and integrates them into your local branch.\n",
    "\n",
    "**Code Example:** `git pull origin master`\n"
   ]
  },
  {
   "cell_type": "markdown",
   "id": "a7820195",
   "metadata": {},
   "source": [
    "# <span style=\"color: green;\"> Undoing Changes"
   ]
  },
  {
   "cell_type": "markdown",
   "id": "9028f60b",
   "metadata": {},
   "source": [
    "## <span style=\"color: blue;\">Git reset <file>\n",
    "\n",
    "**Description:** Unstages changes for a specific file.\n",
    "    \n",
    "**Use Case:** Removes changes from the staging area for a particular file.\n",
    "\n",
    "**Code Example:** `git reset filename.txt`"
   ]
  },
  {
   "cell_type": "markdown",
   "id": "dbe3d99e",
   "metadata": {},
   "source": [
    "## <span style=\"color: blue;\">Git reset\n",
    "\n",
    "**Description:** Unstages all changes.\n",
    "    \n",
    "**Use Case:** Clears the staging area of all changes.\n",
    "\n",
    "**Code Example:** `git reset`\n",
    "\n",
    "    "
   ]
  },
  {
   "cell_type": "markdown",
   "id": "f9486c3c",
   "metadata": {},
   "source": [
    "\n",
    "## <span style=\"color: blue;\">Git reset --hard HEAD\n",
    "\n",
    "**Description:** Discards all changes in the working directory.\n",
    "    \n",
    "**Use Case:** Resets the working directory to the last committed state.\n",
    "\n",
    "**Code Example:** `git reset --hard HEAD`, `git reset --hard <commit_hash>`"
   ]
  },
  {
   "cell_type": "markdown",
   "id": "70806ce8",
   "metadata": {},
   "source": [
    "## <span style=\"color: blue;\">Git revert <commit>\n",
    "\n",
    "**Description:** Creates a new commit that undoes changes of a previous commit.\n",
    "    \n",
    "**Use Case:** Safely removes changes from a specific commit without altering\n",
    "        the commit history.\n",
    "\n",
    "**Code Example:** `git revert <commit_hash>` , `git revert HEAD`"
   ]
  },
  {
   "cell_type": "markdown",
   "id": "4e769403",
   "metadata": {},
   "source": [
    "## <span style=\"color: blue;\">Git checkout <file>\n",
    "\n",
    "**Description:** Discards changes in the working directory for a specific file.\n",
    "    \n",
    "**Use Case:** Reverts the specified file to the last committed state.\n",
    "\n",
    "**Code Example:** `git checkout filename.txt`"
   ]
  },
  {
   "cell_type": "markdown",
   "id": "ded15f4e",
   "metadata": {},
   "source": [
    "## <span style=\"color: blue;\">Git checkout <commit>\n",
    "\n",
    "**Description:** Switches the entire working directory to the specified commit.\n",
    "    \n",
    "**Use Case:** Allows you to review and work with the code as it was at a specific point in history.\n",
    "\n",
    "**Code Example:** `git checkout <commit_hash>`"
   ]
  },
  {
   "cell_type": "markdown",
   "id": "f488964f",
   "metadata": {},
   "source": [
    "\n",
    "\n",
    "\n",
    "\n",
    "\n",
    "\n",
    "\n",
    "\n",
    "## <span style=\"color: blue;\">Git checkout -b <new_branch>\n",
    "\n",
    "**Description:** Creates a new branch and switches to it.\n",
    "    \n",
    "**Use Case:** Conveniently combines the creation and checkout of a new branch.\n",
    "\n",
    "**Code Example:** `git checkout -b <branch name>`\n"
   ]
  },
  {
   "cell_type": "markdown",
   "id": "e0d6af24",
   "metadata": {},
   "source": [
    "## <span style=\"color: blue;\">Git clean -fd\n",
    "\n",
    "**Description:** Removes untracked files and directories from the working directory.\n",
    "    \n",
    "**Use Case:** Useful for cleaning up untracked files and directories before committing.\n",
    "\n",
    "**Code Example:** `git clean -fd`"
   ]
  },
  {
   "cell_type": "markdown",
   "id": "cbbfb85e",
   "metadata": {},
   "source": [
    "# <span style=\"color: green;\"> Git Reset\n",
    "\n"
   ]
  },
  {
   "cell_type": "markdown",
   "id": "d5f052ae",
   "metadata": {},
   "source": [
    "## <span style=\"color: blue;\">Git reset HEAD~n\n",
    "\n",
    "**Description:** Moves the HEAD and current branch pointer back by n commits.\n",
    "    \n",
    "**Use Case:** Useful for undoing the last n commits and resetting the branch to a previous state.\n",
    "\n",
    "**Code Example:** `git reset HEAD~3`"
   ]
  },
  {
   "cell_type": "markdown",
   "id": "7e9aa7dd",
   "metadata": {},
   "source": [
    "# <span style=\"color: green;\"> Git Merge\n"
   ]
  },
  {
   "cell_type": "markdown",
   "id": "ca52258d",
   "metadata": {},
   "source": [
    "## <span style=\"color: blue;\">Git merge --no-ff <branch>\n",
    "\n",
    "**Description:** Forces a new commit object to be created during a merge, even if a fast-forward is possible.\n",
    "    \n",
    "**Use Case:** Preserves a more expressive merge history.\n",
    "\n",
    "**Code Example:** `git merge --no-ff <branch name>`"
   ]
  },
  {
   "cell_type": "markdown",
   "id": "5631f11a",
   "metadata": {},
   "source": [
    "## <span style=\"color: blue;\">Git merge --squash <branch>\n",
    "\n",
    "**Description:** Combines multiple commits from a branch into a single commit during the merge.\n",
    "    \n",
    "**Use Case:** Simplifies the commit history by condensing changes into one commit.\n",
    "\n",
    "**Code Example:** `git merge --squash <branch name>`"
   ]
  },
  {
   "cell_type": "markdown",
   "id": "b7f4f211",
   "metadata": {},
   "source": [
    "# <span style=\"color: green;\"> Git Stash"
   ]
  },
  {
   "cell_type": "markdown",
   "id": "76114b85",
   "metadata": {},
   "source": [
    "## <span style=\"color: blue;\">Git stash\n",
    "\n",
    "**Description:** Temporarily saves changes that are not ready to be committed.\n",
    "    \n",
    "**Use Case:** Useful when you need to switch branches or perform other operations without committing changes.\n",
    "\n",
    "**Code Example:** `git stash` , `git stash list`\n",
    "    "
   ]
  },
  {
   "cell_type": "markdown",
   "id": "6ced339d",
   "metadata": {},
   "source": [
    "## <span style=\"color: blue;\">Git stash apply\n",
    "\n",
    "**Description:** Applies the latest stash to the current working directory.\n",
    "    \n",
    "**Use Case:** Restores the changes previously stashed.\n",
    "\n",
    "**Code Example:** `git stash apply`"
   ]
  },
  {
   "cell_type": "markdown",
   "id": "753fb9dd",
   "metadata": {},
   "source": [
    "# <span style=\"color: green;\">Git Tag"
   ]
  },
  {
   "cell_type": "markdown",
   "id": "51ddcbb0",
   "metadata": {},
   "source": [
    "## <span style=\"color: blue;\">Git tag -a <tag_name> -m \"Message\"\n",
    "\n",
    "**Description:** Creates an annotated tag for a specific commit.\n",
    "    \n",
    "**Use Case:** Marks important points in history, such as releases.\n",
    "\n",
    "**Code Example:** `git tag -a v1.0 -m <hash>`"
   ]
  },
  {
   "cell_type": "markdown",
   "id": "29f458af",
   "metadata": {},
   "source": [
    "## <span style=\"color: blue;\">Git show <tag_name>\n",
    "\n",
    "**Description:** Displays the details of a specific tag.\n",
    "    \n",
    "**Use Case:** Provides information about a particular tagged commit.\n",
    "\n",
    "**Code Example:** `git show v1.0` , `git show <hash>`"
   ]
  },
  {
   "cell_type": "markdown",
   "id": "e56be3d4",
   "metadata": {},
   "source": [
    "# <span style=\"color: green;\">Git Remote Branch"
   ]
  },
  {
   "cell_type": "markdown",
   "id": "8b702961",
   "metadata": {},
   "source": [
    "## <span style=\"color: blue;\">Git push origin :<branch_name>\n",
    "\n",
    "**Description:** Deletes a remote branch.\n",
    "    \n",
    "**Use Case:** Removes a branch from the remote repository.\n",
    "\n",
    "**Code Example:** `git push origin :<branch name>`"
   ]
  },
  {
   "cell_type": "markdown",
   "id": "fbb7c128",
   "metadata": {},
   "source": [
    "## <span style=\"color: blue;\">Git remote show origin\n",
    "\n",
    "**Description:** Displays detailed information about a remote repository.\n",
    "    \n",
    "**Use Case:** Provides insights into the remote repository, including tracked branches and their status.\n",
    "\n",
    "**Code Example:** `git remote show origin`"
   ]
  },
  {
   "cell_type": "markdown",
   "id": "1a668ef6",
   "metadata": {},
   "source": [
    "# <span style=\"color: green;\">Git Submodule"
   ]
  },
  {
   "cell_type": "markdown",
   "id": "6cb06759",
   "metadata": {},
   "source": [
    "## <span style=\"color: blue;\">Git submodule add <repository_url>\n",
    "\n",
    "**Description:** Adds a submodule to the current repository.\n",
    "    \n",
    "**Use Case:** Integrates external repositories as submodules.\n",
    "\n",
    "**Code Example:** `git submodule add https://github.com/example/submodule.git`"
   ]
  },
  {
   "cell_type": "markdown",
   "id": "d712262c",
   "metadata": {},
   "source": [
    "## <span style=\"color: blue;\">Git submodule update --init --recursive\n",
    "\n",
    "**Description:** Initializes and updates submodules in the repository.\n",
    "    \n",
    "**Use Case:** Ensures that submodules are pulled and updated.\n",
    "\n",
    "**Code Example:** `git submodule update --init --recursive`"
   ]
  },
  {
   "cell_type": "markdown",
   "id": "c1d6fa68",
   "metadata": {},
   "source": [
    "# <span style=\"color: green;\">Git Cherry-Pick"
   ]
  },
  {
   "cell_type": "markdown",
   "id": "e4957a3d",
   "metadata": {},
   "source": [
    "## <span style=\"color: blue;\">Git cherry-pick <commit>\n",
    "\n",
    "**Description:** Applies changes from a specific commit to the current branch.\n",
    "    \n",
    "**Use Case:** Allows you to pick specific commits and apply them elsewhere.\n",
    "\n",
    "**Code Example:** `git cherry-pick abc123`"
   ]
  },
  {
   "cell_type": "markdown",
   "id": "e9b4437d",
   "metadata": {},
   "source": [
    "# <span style=\"color: green;\">Git Ignore"
   ]
  },
  {
   "cell_type": "markdown",
   "id": "273727a5",
   "metadata": {},
   "source": [
    "## <span style=\"color: blue;\">.gitignore\n",
    "\n",
    "**Description:** A file containing patterns for files and directories to be ignored by Git.\n",
    "    \n",
    "**Use Case:** Prevents unnecessary files from being tracked.\n",
    "\n",
    "**Code Example:** Create a file named `.gitignore` with appropriate patterns."
   ]
  },
  {
   "cell_type": "markdown",
   "id": "630a5af6",
   "metadata": {},
   "source": [
    "# <span style=\"color: green;\">Git Rebase"
   ]
  },
  {
   "cell_type": "markdown",
   "id": "9471a2fe",
   "metadata": {},
   "source": [
    "## <span style=\"color: blue;\">Git rebase <branch>\n",
    "\n",
    "**Description:** Transfers changes from one branch to another by applying them individually.\n",
    "    \n",
    "**Use Case:** Creates a linear, cleaner commit history.\n",
    "    \n",
    "**Code Example:** `git rebase main`"
   ]
  },
  {
   "cell_type": "markdown",
   "id": "373aa6c2",
   "metadata": {},
   "source": [
    "## <span style=\"color: blue;\">Git rebase -i <commit>\n",
    "\n",
    "**Description:** Interactively selects and modifies commits during the rebase process.\n",
    "    \n",
    "**Use Case:** Offers more control over the rebase process.\n",
    "\n",
    "**Code Example:** `git rebase -i abc123`"
   ]
  },
  {
   "cell_type": "markdown",
   "id": "41e56640",
   "metadata": {},
   "source": [
    "# <span style=\"color: green;\">Git Log"
   ]
  },
  {
   "cell_type": "markdown",
   "id": "b6714718",
   "metadata": {},
   "source": [
    "## <span style=\"color: blue;\">git log --graph --oneline --all\n",
    "\n",
    "**Description:** Displays a concise, graphical representation of the commit history.\n",
    "    \n",
    "**Use Case:** Provides a visual overview of branches and their relationships.\n",
    "\n",
    "**Code Example:** `git log --graph --oneline --all`"
   ]
  },
  {
   "cell_type": "markdown",
   "id": "cbae2b83",
   "metadata": {},
   "source": [
    "# <span style=\"color: green;\">Advanced Git Techniques"
   ]
  },
  {
   "cell_type": "markdown",
   "id": "90fb09da",
   "metadata": {},
   "source": [
    "## <span style=\"color: blue;\">Git bisect\n",
    "\n",
    "**Description:** Automates the process of finding the commit that introduced a bug.\n",
    "    \n",
    "**Use Case:** Helps pinpoint the commit responsible for a bug.\n",
    "\n",
    "**Code Example:** `git bisect start`"
   ]
  },
  {
   "cell_type": "markdown",
   "id": "cb5603c5",
   "metadata": {},
   "source": [
    "## <span style=\"color: blue;\">Git reflog\n",
    "\n",
    "**Description:** Records changes to the repository's branch references.\n",
    "    \n",
    "**Use Case:** Useful for recovering lost commits or branches.\n",
    "\n",
    "**Code Example:** `git reflog`"
   ]
  },
  {
   "cell_type": "markdown",
   "id": "a1b20e9e",
   "metadata": {},
   "source": [
    "## <span style=\"color: blue;\">Git cherry\n",
    "\n",
    "**Description:** Compares the changes in two branches.\n",
    "    \n",
    "**Use Case:** Identifies commits in one branch that are not in another.\n",
    "\n",
    "**Code Example:** `git cherry main <branch name>`"
   ]
  },
  {
   "cell_type": "markdown",
   "id": "a0794f10",
   "metadata": {},
   "source": [
    "## <span style=\"color: blue;\">Git archive\n",
    "\n",
    "**Description:** Creates a tar or zip archive of a Git repository.\n",
    "    \n",
    "**Use Case:** Generates a snapshot of the repository without the Git metadata.\n",
    "\n",
    "**Code Example:** `git archive --format=zip --output=archive.zip main`\n"
   ]
  },
  {
   "cell_type": "markdown",
   "id": "7d4457ed",
   "metadata": {},
   "source": [
    "## <span style=\"color: blue;\">Git grep\n",
    "\n",
    "**Description:** Searches the working directory for a specific pattern.\n",
    "    \n",
    "**Use Case:** Quickly finds files and lines containing a particular text.\n",
    "\n",
    "**Code Example:** `git grep \"search term\"`"
   ]
  },
  {
   "cell_type": "markdown",
   "id": "3d868c89",
   "metadata": {},
   "source": [
    "## <span style=\"color: blue;\">Git blame\n",
    "\n",
    "**Description:** Shows the author and last modification for each line in a file.\n",
    "    \n",
    "**Use Case:** Helps identify when and by whom each line was last changed.\n",
    "\n",
    "**Code Example:** `git blame filename.txt`"
   ]
  },
  {
   "cell_type": "markdown",
   "id": "6805dc3a",
   "metadata": {},
   "source": [
    "## <span style=\"color: blue;\">Git submodule foreach\n",
    "\n",
    "**Description:** Runs a command in each submodule.\n",
    "    \n",
    "**Use Case:** Executes a specific operation in all submodules.\n",
    "\n",
    "**Code Example:** `git submodule foreach 'git status'`"
   ]
  },
  {
   "cell_type": "markdown",
   "id": "7890febb",
   "metadata": {},
   "source": [
    "## <span style=\"color: blue;\">Git mergetool\n",
    "\n",
    "**Description:** Launches a visual tool to resolve merge conflicts.\n",
    "    \n",
    "**Use Case:** Provides a graphical interface for resolving conflicts.\n",
    "\n",
    "**Code Example:** `git mergetool`"
   ]
  },
  {
   "cell_type": "markdown",
   "id": "02dde572",
   "metadata": {},
   "source": [
    "## <span style=\"color: blue;\">Git log --author= \"author\"\n",
    "\n",
    "**Description:** Filters the commit history by the specified author.\n",
    "    \n",
    "**Use Case:** Helps track changes made by a particular contributor.\n",
    "\n",
    "**Code Example:** `git log --author=JohnDoe`"
   ]
  },
  {
   "cell_type": "markdown",
   "id": "2043615c",
   "metadata": {},
   "source": [
    "## <span style=\"color: blue;\">Git rebase -i HEAD~n\n",
    "\n",
    "**Description:** Interactively rewrites the last n commits in the current branch.\n",
    "    \n",
    "**Use Case:** Allows you to squash, edit, or reorder recent commits.\n",
    "\n",
    "**Code Example:** `git rebase -i HEAD~3`\n",
    "\n"
   ]
  }
 ],
 "metadata": {
  "kernelspec": {
   "display_name": "Python 3 (ipykernel)",
   "language": "python",
   "name": "python3"
  },
  "language_info": {
   "codemirror_mode": {
    "name": "ipython",
    "version": 3
   },
   "file_extension": ".py",
   "mimetype": "text/x-python",
   "name": "python",
   "nbconvert_exporter": "python",
   "pygments_lexer": "ipython3",
   "version": "3.9.17"
  }
 },
 "nbformat": 4,
 "nbformat_minor": 5
}
