{
 "cells": [
  {
   "cell_type": "markdown",
   "id": "3971835f",
   "metadata": {},
   "source": [
    "## IMPORT OF LIBRARIES - XGBoost Regressor\n"
   ]
  },
  {
   "cell_type": "code",
   "execution_count": 1,
   "id": "5d1d3dc3",
   "metadata": {},
   "outputs": [],
   "source": [
    "import pandas as pd\n",
    "import numpy as np\n",
    "import matplotlib.pyplot as plt\n",
    "from xgboost import XGBRegressor\n",
    "from sklearn.model_selection import cross_val_score\n",
    "from sklearn.model_selection import train_test_split\n",
    "from sklearn.metrics import mean_squared_error, mean_absolute_error, r2_score\n",
    "import ipywidgets as widgets\n",
    "from IPython.display import display\n"
   ]
  },
  {
   "cell_type": "markdown",
   "id": "c59937b4",
   "metadata": {},
   "source": [
    "## Defining the file and uploading it via pandas (always check for index_col)"
   ]
  },
  {
   "cell_type": "code",
   "execution_count": 2,
   "id": "30116547",
   "metadata": {},
   "outputs": [],
   "source": [
    "file_path = 'C:/Users/42073/Desktop/_Python/Datasety/Salary_dataset.csv'\n",
    "df = pd.read_csv(file_path, index_col=0)"
   ]
  },
  {
   "cell_type": "markdown",
   "id": "cefc9888",
   "metadata": {},
   "source": [
    "# Working with the dataset and preparation for data cleaning part"
   ]
  },
  {
   "cell_type": "code",
   "execution_count": 3,
   "id": "966a2195",
   "metadata": {
    "scrolled": false
   },
   "outputs": [
    {
     "data": {
      "text/html": [
       "<div>\n",
       "<style scoped>\n",
       "    .dataframe tbody tr th:only-of-type {\n",
       "        vertical-align: middle;\n",
       "    }\n",
       "\n",
       "    .dataframe tbody tr th {\n",
       "        vertical-align: top;\n",
       "    }\n",
       "\n",
       "    .dataframe thead th {\n",
       "        text-align: right;\n",
       "    }\n",
       "</style>\n",
       "<table border=\"1\" class=\"dataframe\">\n",
       "  <thead>\n",
       "    <tr style=\"text-align: right;\">\n",
       "      <th></th>\n",
       "      <th>YearsExperience</th>\n",
       "      <th>Salary</th>\n",
       "    </tr>\n",
       "  </thead>\n",
       "  <tbody>\n",
       "    <tr>\n",
       "      <th>0</th>\n",
       "      <td>1.2</td>\n",
       "      <td>39344.0</td>\n",
       "    </tr>\n",
       "    <tr>\n",
       "      <th>1</th>\n",
       "      <td>1.4</td>\n",
       "      <td>46206.0</td>\n",
       "    </tr>\n",
       "    <tr>\n",
       "      <th>2</th>\n",
       "      <td>1.6</td>\n",
       "      <td>37732.0</td>\n",
       "    </tr>\n",
       "    <tr>\n",
       "      <th>3</th>\n",
       "      <td>2.1</td>\n",
       "      <td>43526.0</td>\n",
       "    </tr>\n",
       "    <tr>\n",
       "      <th>4</th>\n",
       "      <td>2.3</td>\n",
       "      <td>39892.0</td>\n",
       "    </tr>\n",
       "    <tr>\n",
       "      <th>5</th>\n",
       "      <td>3.0</td>\n",
       "      <td>56643.0</td>\n",
       "    </tr>\n",
       "    <tr>\n",
       "      <th>6</th>\n",
       "      <td>3.1</td>\n",
       "      <td>60151.0</td>\n",
       "    </tr>\n",
       "    <tr>\n",
       "      <th>7</th>\n",
       "      <td>3.3</td>\n",
       "      <td>54446.0</td>\n",
       "    </tr>\n",
       "    <tr>\n",
       "      <th>8</th>\n",
       "      <td>3.3</td>\n",
       "      <td>64446.0</td>\n",
       "    </tr>\n",
       "    <tr>\n",
       "      <th>9</th>\n",
       "      <td>3.8</td>\n",
       "      <td>57190.0</td>\n",
       "    </tr>\n",
       "  </tbody>\n",
       "</table>\n",
       "</div>"
      ],
      "text/plain": [
       "   YearsExperience   Salary\n",
       "0              1.2  39344.0\n",
       "1              1.4  46206.0\n",
       "2              1.6  37732.0\n",
       "3              2.1  43526.0\n",
       "4              2.3  39892.0\n",
       "5              3.0  56643.0\n",
       "6              3.1  60151.0\n",
       "7              3.3  54446.0\n",
       "8              3.3  64446.0\n",
       "9              3.8  57190.0"
      ]
     },
     "execution_count": 3,
     "metadata": {},
     "output_type": "execute_result"
    }
   ],
   "source": [
    "df.head(10)"
   ]
  },
  {
   "cell_type": "code",
   "execution_count": 22,
   "id": "88893418",
   "metadata": {},
   "outputs": [
    {
     "data": {
      "text/plain": [
       "(30, 2)"
      ]
     },
     "execution_count": 22,
     "metadata": {},
     "output_type": "execute_result"
    }
   ],
   "source": [
    "df.shape\n"
   ]
  },
  {
   "cell_type": "code",
   "execution_count": 18,
   "id": "4c9982b0",
   "metadata": {},
   "outputs": [
    {
     "name": "stdout",
     "output_type": "stream",
     "text": [
      "<class 'pandas.core.frame.DataFrame'>\n",
      "Int64Index: 30 entries, 0 to 29\n",
      "Data columns (total 2 columns):\n",
      " #   Column      Non-Null Count  Dtype  \n",
      "---  ------      --------------  -----  \n",
      " 0   Experience  30 non-null     float64\n",
      " 1   Salary      30 non-null     float64\n",
      "dtypes: float64(2)\n",
      "memory usage: 720.0 bytes\n"
     ]
    }
   ],
   "source": [
    "df.info()"
   ]
  },
  {
   "cell_type": "code",
   "execution_count": 19,
   "id": "80caa37f",
   "metadata": {},
   "outputs": [
    {
     "data": {
      "text/html": [
       "<div>\n",
       "<style scoped>\n",
       "    .dataframe tbody tr th:only-of-type {\n",
       "        vertical-align: middle;\n",
       "    }\n",
       "\n",
       "    .dataframe tbody tr th {\n",
       "        vertical-align: top;\n",
       "    }\n",
       "\n",
       "    .dataframe thead th {\n",
       "        text-align: right;\n",
       "    }\n",
       "</style>\n",
       "<table border=\"1\" class=\"dataframe\">\n",
       "  <thead>\n",
       "    <tr style=\"text-align: right;\">\n",
       "      <th></th>\n",
       "      <th>Experience</th>\n",
       "      <th>Salary</th>\n",
       "    </tr>\n",
       "  </thead>\n",
       "  <tbody>\n",
       "    <tr>\n",
       "      <th>count</th>\n",
       "      <td>30.000000</td>\n",
       "      <td>30.000000</td>\n",
       "    </tr>\n",
       "    <tr>\n",
       "      <th>mean</th>\n",
       "      <td>5.413333</td>\n",
       "      <td>76004.000000</td>\n",
       "    </tr>\n",
       "    <tr>\n",
       "      <th>std</th>\n",
       "      <td>2.837888</td>\n",
       "      <td>27414.429785</td>\n",
       "    </tr>\n",
       "    <tr>\n",
       "      <th>min</th>\n",
       "      <td>1.200000</td>\n",
       "      <td>37732.000000</td>\n",
       "    </tr>\n",
       "    <tr>\n",
       "      <th>25%</th>\n",
       "      <td>3.300000</td>\n",
       "      <td>56721.750000</td>\n",
       "    </tr>\n",
       "    <tr>\n",
       "      <th>50%</th>\n",
       "      <td>4.800000</td>\n",
       "      <td>65238.000000</td>\n",
       "    </tr>\n",
       "    <tr>\n",
       "      <th>75%</th>\n",
       "      <td>7.800000</td>\n",
       "      <td>100545.750000</td>\n",
       "    </tr>\n",
       "    <tr>\n",
       "      <th>max</th>\n",
       "      <td>10.600000</td>\n",
       "      <td>122392.000000</td>\n",
       "    </tr>\n",
       "  </tbody>\n",
       "</table>\n",
       "</div>"
      ],
      "text/plain": [
       "       Experience         Salary\n",
       "count   30.000000      30.000000\n",
       "mean     5.413333   76004.000000\n",
       "std      2.837888   27414.429785\n",
       "min      1.200000   37732.000000\n",
       "25%      3.300000   56721.750000\n",
       "50%      4.800000   65238.000000\n",
       "75%      7.800000  100545.750000\n",
       "max     10.600000  122392.000000"
      ]
     },
     "execution_count": 19,
     "metadata": {},
     "output_type": "execute_result"
    }
   ],
   "source": [
    "df.describe()"
   ]
  },
  {
   "cell_type": "code",
   "execution_count": 20,
   "id": "54b841ec",
   "metadata": {},
   "outputs": [
    {
     "data": {
      "text/plain": [
       "Experience    0\n",
       "Salary        0\n",
       "dtype: int64"
      ]
     },
     "execution_count": 20,
     "metadata": {},
     "output_type": "execute_result"
    }
   ],
   "source": [
    "df.isnull().sum()"
   ]
  },
  {
   "cell_type": "code",
   "execution_count": 21,
   "id": "a5bd2343",
   "metadata": {},
   "outputs": [
    {
     "data": {
      "text/plain": [
       "Experience    28\n",
       "Salary        30\n",
       "dtype: int64"
      ]
     },
     "execution_count": 21,
     "metadata": {},
     "output_type": "execute_result"
    }
   ],
   "source": [
    "df.nunique()"
   ]
  },
  {
   "cell_type": "code",
   "execution_count": 4,
   "id": "b5d0624f",
   "metadata": {},
   "outputs": [],
   "source": [
    "df.rename(columns={'YearsExperience': 'Experience'}, inplace=True)"
   ]
  },
  {
   "cell_type": "markdown",
   "id": "a68d77b4",
   "metadata": {},
   "source": [
    "# Preparation for machine learning process\n",
    "## X is everything we want to consider as influencing factor for our prediciton Y"
   ]
  },
  {
   "cell_type": "code",
   "execution_count": 5,
   "id": "a3714909",
   "metadata": {},
   "outputs": [],
   "source": [
    "# Extract features and target variable\n",
    "x = df['Experience']\n",
    "y = df['Salary']"
   ]
  },
  {
   "cell_type": "code",
   "execution_count": 6,
   "id": "feedd4b1",
   "metadata": {},
   "outputs": [],
   "source": [
    "x_train, x_test, y_train, y_test = train_test_split(x, y, test_size=0.2, random_state=42)"
   ]
  },
  {
   "cell_type": "markdown",
   "id": "c908b807",
   "metadata": {},
   "source": [
    "# Choosing the model"
   ]
  },
  {
   "cell_type": "code",
   "execution_count": 7,
   "id": "256dc713",
   "metadata": {},
   "outputs": [],
   "source": [
    "# Create an XGBoost regression model\n",
    "model = XGBRegressor()\n",
    "\n"
   ]
  },
  {
   "cell_type": "markdown",
   "id": "50bac3b2",
   "metadata": {},
   "source": [
    "# Visualization of the models characteristics"
   ]
  },
  {
   "cell_type": "code",
   "execution_count": 8,
   "id": "1dea3670",
   "metadata": {},
   "outputs": [
    {
     "data": {
      "image/png": "[encoded data removed]",
      "text/plain": [
       "<Figure size 640x480 with 1 Axes>"
      ]
     },
     "metadata": {},
     "output_type": "display_data"
    }
   ],
   "source": [
    "scores = cross_val_score(model, x, y, cv=5, scoring='neg_mean_squared_error')\n",
    "#plt.figure(figsize=(8, 6))\n",
    "plt.bar(range(len(scores)), scores)\n",
    "plt.xlabel('Fold')\n",
    "plt.ylabel('Mean Squared Error')\n",
    "plt.title('Cross-Validation Scores for XGBoost Regressor')\n",
    "plt.show()"
   ]
  },
  {
   "cell_type": "markdown",
   "id": "db2d2d50",
   "metadata": {},
   "source": [
    "# Model fitting"
   ]
  },
  {
   "cell_type": "code",
   "execution_count": 9,
   "id": "9f4530ab",
   "metadata": {
    "scrolled": true
   },
   "outputs": [
    {
     "data": {
      "text/plain": [
       "XGBRegressor(base_score=None, booster=None, callbacks=None,\n",
       "             colsample_bylevel=None, colsample_bynode=None,\n",
       "             colsample_bytree=None, early_stopping_rounds=None,\n",
       "             enable_categorical=False, eval_metric=None, feature_types=None,\n",
       "             gamma=None, gpu_id=None, grow_policy=None, importance_type=None,\n",
       "             interaction_constraints=None, learning_rate=None, max_bin=None,\n",
       "             max_cat_threshold=None, max_cat_to_onehot=None,\n",
       "             max_delta_step=None, max_depth=None, max_leaves=None,\n",
       "             min_child_weight=None, missing=nan, monotone_constraints=None,\n",
       "             n_estimators=100, n_jobs=None, num_parallel_tree=None,\n",
       "             predictor=None, random_state=None, ...)"
      ]
     },
     "execution_count": 9,
     "metadata": {},
     "output_type": "execute_result"
    }
   ],
   "source": [
    "model.fit(x_train, y_train)"
   ]
  },
  {
   "cell_type": "markdown",
   "id": "1aaf808a",
   "metadata": {},
   "source": [
    "# Model prediction and score evaluation"
   ]
  },
  {
   "cell_type": "code",
   "execution_count": 10,
   "id": "f93832d6",
   "metadata": {},
   "outputs": [],
   "source": [
    "predictions = model.predict(x_test)"
   ]
  },
  {
   "cell_type": "code",
   "execution_count": 11,
   "id": "a434b470",
   "metadata": {
    "scrolled": false
   },
   "outputs": [
    {
     "name": "stdout",
     "output_type": "stream",
     "text": [
      "Mean Squared Error: 101047806.01054382\n",
      "Mean Absolute Error: 8640.13671875\n",
      "R-squared: 0.802175786084608\n"
     ]
    }
   ],
   "source": [
    "mse = mean_squared_error(y_test, predictions)\n",
    "mae = mean_absolute_error(y_test, predictions)\n",
    "r2 = r2_score(y_test, predictions)\n",
    "\n",
    "# Print the evaluation metrics\n",
    "print(\"Mean Squared Error:\", mse)\n",
    "print(\"Mean Absolute Error:\", mae)\n",
    "print(\"R-squared:\", r2)"
   ]
  },
  {
   "cell_type": "markdown",
   "id": "53a1de8f",
   "metadata": {},
   "source": [
    "# Regression chart with data points and normal lin. regression and XGB regression"
   ]
  },
  {
   "cell_type": "code",
   "execution_count": 12,
   "id": "a2c17c67",
   "metadata": {},
   "outputs": [
    {
     "data": {
      "image/png": "[encoded data removed]",
      "text/plain": [
       "<Figure size 640x480 with 1 Axes>"
      ]
     },
     "metadata": {},
     "output_type": "display_data"
    }
   ],
   "source": [
    "coefficients = np.polyfit(x, y, 1)\n",
    "slope, intercept = coefficients\n",
    "regression_line = slope * x + intercept\n",
    "\n",
    "plt.scatter(x, y, label='Data Points')\n",
    "plt.plot(x, regression_line, color='red', label='Linear Regression Line')\n",
    "plt.plot(x, model.predict(x), color='blue', label='XGBoost Regression Line')\n",
    "plt.title(\"Salary according to years of experience\")\n",
    "plt.legend()\n",
    "plt.grid(True)\n",
    "plt.show()"
   ]
  },
  {
   "cell_type": "markdown",
   "id": "00b2124b",
   "metadata": {},
   "source": [
    "# Interactive prediction with slider"
   ]
  },
  {
   "cell_type": "code",
   "execution_count": 13,
   "id": "90168ba6",
   "metadata": {
    "scrolled": true
   },
   "outputs": [
    {
     "data": {
      "application/vnd.jupyter.widget-view+json": {
       "model_id": "d91da583c26146cd966df21dc69cb0d1",
       "version_major": 2,
       "version_minor": 0
      },
      "text/plain": [
       "interactive(children=(FloatSlider(value=1.2000000000000002, description='Input X:', max=10.6, min=1.2000000000…"
      ]
     },
     "metadata": {},
     "output_type": "display_data"
    }
   ],
   "source": [
    "import numpy as np\n",
    "import matplotlib.pyplot as plt\n",
    "import ipywidgets as widgets\n",
    "from IPython.display import display\n",
    "\n",
    "# Assuming you have already defined 'x', 'y', and 'model'\n",
    "\n",
    "# Perform linear regression\n",
    "coefficients = np.polyfit(x, y, 1)\n",
    "slope, intercept = coefficients\n",
    "regression_line = slope * x + intercept\n",
    "\n",
    "# Create a function to update the plot based on the input value\n",
    "def update_plot(input_x):\n",
    "    # Predict using the regression model\n",
    "    predicted_y = model.predict(input_x)\n",
    "    predicted_y = predicted_y[0]  # Unpack the predicted value from the array\n",
    "\n",
    "    plt.figure()\n",
    "    plt.scatter(x, y, label='Data Points')\n",
    "    plt.plot(x, regression_line, color='red', label='Linear Regression Line')\n",
    "    #plt.plot(x, model.predict(x), color='green', label='XGBoost Regression Line')\n",
    "    plt.plot(input_x, predicted_y, 'o', color='blue', markersize=8, label='Model Prediction')\n",
    "    plt.annotate(f'Prediction: {predicted_y:.2f}$', (input_x, predicted_y),\n",
    "                 textcoords=\"offset points\", xytext=(-20, 10),\n",
    "                 arrowprops=dict(arrowstyle=\"->\", color=\"blue\"))\n",
    "\n",
    "    plt.title(\"Salary according to years of experience\")\n",
    "    plt.xlabel(\"Years of Experience\")\n",
    "    plt.ylabel(\"Salary\")\n",
    "    plt.legend()\n",
    "    plt.grid(True)\n",
    "    plt.show()\n",
    "\n",
    "# Create an interactive widget for input\n",
    "input_widget = widgets.FloatSlider(value=1, min=min(x), max=max(x), step=0.1, description='Input X:')\n",
    "interactive_plot = widgets.interactive(update_plot, input_x=input_widget)\n",
    "\n",
    "# Display the interactive plot\n",
    "display(interactive_plot)"
   ]
  },
  {
   "cell_type": "markdown",
   "id": "15263565",
   "metadata": {},
   "source": [
    "# Interactive prediction with input box"
   ]
  },
  {
   "cell_type": "code",
   "execution_count": 14,
   "id": "d6e0d3e6",
   "metadata": {},
   "outputs": [
    {
     "data": {
      "application/vnd.jupyter.widget-view+json": {
       "model_id": "798170f9cc5047af85b08fdce1f4c8a6",
       "version_major": 2,
       "version_minor": 0
      },
      "text/plain": [
       "interactive(children=(FloatText(value=1.0, description='Input X:'), Output()), _dom_classes=('widget-interact'…"
      ]
     },
     "metadata": {},
     "output_type": "display_data"
    }
   ],
   "source": [
    "import numpy as np\n",
    "import matplotlib.pyplot as plt\n",
    "import ipywidgets as widgets\n",
    "from IPython.display import display\n",
    "\n",
    "# Assuming you have already defined 'x', 'y', and 'model'\n",
    "\n",
    "# Perform linear regression\n",
    "coefficients = np.polyfit(x, y, 1)\n",
    "slope, intercept = coefficients\n",
    "regression_line = slope * x + intercept\n",
    "\n",
    "# Create a function to update the plot based on the input value\n",
    "def update_plot(input_x):\n",
    "    # Predict using the regression model\n",
    "    predicted_y = model.predict([[input_x]])\n",
    "    predicted_y = predicted_y[0]  # Unpack the predicted value from the array\n",
    "\n",
    "    plt.figure()\n",
    "    plt.scatter(x, y, label='Data Points')\n",
    "    plt.plot(x, regression_line, color='red', label='Linear Regression Line')\n",
    "    plt.plot(input_x, predicted_y, 'o', color='blue', markersize=8, label='Model Prediction')\n",
    "    plt.annotate(f'Prediction: {predicted_y:.2f}$', (input_x, predicted_y),\n",
    "                 textcoords=\"offset points\", xytext=(-20, 10),\n",
    "                 arrowprops=dict(arrowstyle=\"->\", color=\"blue\"))\n",
    "\n",
    "    plt.title(\"Salary according to years of experience\")\n",
    "    plt.xlabel(\"Years of Experience\")\n",
    "    plt.ylabel(\"Salary\")\n",
    "    plt.legend()\n",
    "    plt.grid(True)\n",
    "    plt.show()\n",
    "\n",
    "# Create an interactive widget for input using FloatText\n",
    "input_box = widgets.FloatText(value=1, description='Input X:')\n",
    "interactive_plot = widgets.interactive(update_plot, input_x=input_box)\n",
    "\n",
    "# Display the interactive plot\n",
    "display(interactive_plot)"
   ]
  },
  {
   "cell_type": "code",
   "execution_count": null,
   "id": "5a648810",
   "metadata": {},
   "outputs": [],
   "source": []
  }
 ],
 "metadata": {
  "kernelspec": {
   "display_name": "Python 3 (ipykernel)",
   "language": "python",
   "name": "python3"
  },
  "language_info": {
   "codemirror_mode": {
    "name": "ipython",
    "version": 3
   },
   "file_extension": ".py",
   "mimetype": "text/x-python",
   "name": "python",
   "nbconvert_exporter": "python",
   "pygments_lexer": "ipython3",
   "version": "3.9.17"
  }
 },
 "nbformat": 4,
 "nbformat_minor": 5
}
